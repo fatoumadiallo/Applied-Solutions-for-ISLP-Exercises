{
  "nbformat": 4,
  "nbformat_minor": 0,
  "metadata": {
    "colab": {
      "provenance": [],
      "mount_file_id": "1O0R4zkfBF0jXsSZXnU5E9S3qxhrD3U15",
      "authorship_tag": "ABX9TyMtxnJ+nuoyc2BMhUNdCBSL"
    },
    "kernelspec": {
      "name": "python3",
      "display_name": "Python 3"
    },
    "language_info": {
      "name": "python"
    }
  },
  "cells": [
    {
      "cell_type": "code",
      "execution_count": null,
      "metadata": {
        "id": "XchqQIe34l02"
      },
      "outputs": [],
      "source": [
        "import numpy as np\n",
        "import pandas as pd\n",
        "from matplotlib.pyplot import subplots\n",
        "import statsmodels.api as sm\n",
        "from sklearn.model_selection import train_test_split\n",
        "from sklearn.linear_model import LogisticRegression\n",
        "from sklearn.metrics import confusion_matrix\n",
        "from sklearn.linear_model import Lasso\n",
        "from sklearn.metrics import mean_squared_error\n",
        "from sklearn.preprocessing import StandardScaler\n",
        "from sklearn.linear_model import RidgeCV"
      ]
    },
    {
      "cell_type": "markdown",
      "source": [
        "CHAPTER 4: CLASSIFICATION"
      ],
      "metadata": {
        "id": "b5X1jUSNeTle"
      }
    },
    {
      "cell_type": "markdown",
      "source": [
        "Problem 16: (Logistic Regression)"
      ],
      "metadata": {
        "id": "ZJBBR8U-MxjF"
      }
    },
    {
      "cell_type": "code",
      "source": [
        "Boston = pd.read_csv('/content/drive/MyDrive/Boston.csv')\n",
        "print(Boston.head())"
      ],
      "metadata": {
        "colab": {
          "base_uri": "https://localhost:8080/"
        },
        "id": "d-N5Q3_98lXQ",
        "outputId": "193ed810-fa1c-48af-b24d-a5410080653f"
      },
      "execution_count": null,
      "outputs": [
        {
          "output_type": "stream",
          "name": "stdout",
          "text": [
            "   Unnamed: 0     crim    zn  indus  chas    nox     rm   age     dis  rad  \\\n",
            "0           1  0.00632  18.0   2.31     0  0.538  6.575  65.2  4.0900    1   \n",
            "1           2  0.02731   0.0   7.07     0  0.469  6.421  78.9  4.9671    2   \n",
            "2           3  0.02729   0.0   7.07     0  0.469  7.185  61.1  4.9671    2   \n",
            "3           4  0.03237   0.0   2.18     0  0.458  6.998  45.8  6.0622    3   \n",
            "4           5  0.06905   0.0   2.18     0  0.458  7.147  54.2  6.0622    3   \n",
            "\n",
            "   tax  ptratio  lstat  medv  \n",
            "0  296     15.3   4.98  24.0  \n",
            "1  242     17.8   9.14  21.6  \n",
            "2  242     17.8   4.03  34.7  \n",
            "3  222     18.7   2.94  33.4  \n",
            "4  222     18.7   5.33  36.2  \n"
          ]
        }
      ]
    },
    {
      "cell_type": "code",
      "source": [
        "Boston = Boston.drop(columns=['Unnamed: 0'])\n",
        "print(Boston.head())"
      ],
      "metadata": {
        "colab": {
          "base_uri": "https://localhost:8080/"
        },
        "id": "YepTHoTx_cwh",
        "outputId": "fec0fe89-7c0c-462a-d94a-849c2bfd653b"
      },
      "execution_count": null,
      "outputs": [
        {
          "output_type": "stream",
          "name": "stdout",
          "text": [
            "      crim    zn  indus  chas    nox     rm   age     dis  rad  tax  ptratio  \\\n",
            "0  0.00632  18.0   2.31     0  0.538  6.575  65.2  4.0900    1  296     15.3   \n",
            "1  0.02731   0.0   7.07     0  0.469  6.421  78.9  4.9671    2  242     17.8   \n",
            "2  0.02729   0.0   7.07     0  0.469  7.185  61.1  4.9671    2  242     17.8   \n",
            "3  0.03237   0.0   2.18     0  0.458  6.998  45.8  6.0622    3  222     18.7   \n",
            "4  0.06905   0.0   2.18     0  0.458  7.147  54.2  6.0622    3  222     18.7   \n",
            "\n",
            "   lstat  medv  \n",
            "0   4.98  24.0  \n",
            "1   9.14  21.6  \n",
            "2   4.03  34.7  \n",
            "3   2.94  33.4  \n",
            "4   5.33  36.2  \n"
          ]
        }
      ]
    },
    {
      "cell_type": "code",
      "source": [
        "Boston.columns"
      ],
      "metadata": {
        "colab": {
          "base_uri": "https://localhost:8080/"
        },
        "id": "2zACeJ8r_BRP",
        "outputId": "04eb50e9-c2cb-44fc-d2fa-a79f18f8f584"
      },
      "execution_count": null,
      "outputs": [
        {
          "output_type": "execute_result",
          "data": {
            "text/plain": [
              "Index(['crim', 'zn', 'indus', 'chas', 'nox', 'rm', 'age', 'dis', 'rad', 'tax',\n",
              "       'ptratio', 'lstat', 'medv'],\n",
              "      dtype='object')"
            ]
          },
          "metadata": {},
          "execution_count": 46
        }
      ]
    },
    {
      "cell_type": "code",
      "source": [
        "crim_above_med=np.where(Boston[\"crim\"]>Boston[\"crim\"].median(),1,0)\n",
        "Boston['crim_above_med']=crim_above_med"
      ],
      "metadata": {
        "id": "3nhdz_zXAdZj"
      },
      "execution_count": null,
      "outputs": []
    },
    {
      "cell_type": "code",
      "source": [
        "Boston['crim_above_med'].describe()"
      ],
      "metadata": {
        "colab": {
          "base_uri": "https://localhost:8080/",
          "height": 335
        },
        "id": "H2yX0slnEHL8",
        "outputId": "90ed9324-92c2-4420-b0a6-3d5eada4346d"
      },
      "execution_count": null,
      "outputs": [
        {
          "output_type": "execute_result",
          "data": {
            "text/plain": [
              "count    506.000000\n",
              "mean       0.500000\n",
              "std        0.500495\n",
              "min        0.000000\n",
              "25%        0.000000\n",
              "50%        0.500000\n",
              "75%        1.000000\n",
              "max        1.000000\n",
              "Name: crim_above_med, dtype: float64"
            ],
            "text/html": [
              "<div>\n",
              "<style scoped>\n",
              "    .dataframe tbody tr th:only-of-type {\n",
              "        vertical-align: middle;\n",
              "    }\n",
              "\n",
              "    .dataframe tbody tr th {\n",
              "        vertical-align: top;\n",
              "    }\n",
              "\n",
              "    .dataframe thead th {\n",
              "        text-align: right;\n",
              "    }\n",
              "</style>\n",
              "<table border=\"1\" class=\"dataframe\">\n",
              "  <thead>\n",
              "    <tr style=\"text-align: right;\">\n",
              "      <th></th>\n",
              "      <th>crim_above_med</th>\n",
              "    </tr>\n",
              "  </thead>\n",
              "  <tbody>\n",
              "    <tr>\n",
              "      <th>count</th>\n",
              "      <td>506.000000</td>\n",
              "    </tr>\n",
              "    <tr>\n",
              "      <th>mean</th>\n",
              "      <td>0.500000</td>\n",
              "    </tr>\n",
              "    <tr>\n",
              "      <th>std</th>\n",
              "      <td>0.500495</td>\n",
              "    </tr>\n",
              "    <tr>\n",
              "      <th>min</th>\n",
              "      <td>0.000000</td>\n",
              "    </tr>\n",
              "    <tr>\n",
              "      <th>25%</th>\n",
              "      <td>0.000000</td>\n",
              "    </tr>\n",
              "    <tr>\n",
              "      <th>50%</th>\n",
              "      <td>0.500000</td>\n",
              "    </tr>\n",
              "    <tr>\n",
              "      <th>75%</th>\n",
              "      <td>1.000000</td>\n",
              "    </tr>\n",
              "    <tr>\n",
              "      <th>max</th>\n",
              "      <td>1.000000</td>\n",
              "    </tr>\n",
              "  </tbody>\n",
              "</table>\n",
              "</div><br><label><b>dtype:</b> float64</label>"
            ]
          },
          "metadata": {},
          "execution_count": 48
        }
      ]
    },
    {
      "cell_type": "code",
      "source": [
        "Boston.corr()"
      ],
      "metadata": {
        "colab": {
          "base_uri": "https://localhost:8080/",
          "height": 508
        },
        "id": "eFEha54SDF8U",
        "outputId": "3a1d2e5a-9587-4eed-b837-e3162546f72a"
      },
      "execution_count": null,
      "outputs": [
        {
          "output_type": "execute_result",
          "data": {
            "text/plain": [
              "                    crim        zn     indus      chas       nox        rm  \\\n",
              "crim            1.000000 -0.200469  0.406583 -0.055892  0.420972 -0.219247   \n",
              "zn             -0.200469  1.000000 -0.533828 -0.042697 -0.516604  0.311991   \n",
              "indus           0.406583 -0.533828  1.000000  0.062938  0.763651 -0.391676   \n",
              "chas           -0.055892 -0.042697  0.062938  1.000000  0.091203  0.091251   \n",
              "nox             0.420972 -0.516604  0.763651  0.091203  1.000000 -0.302188   \n",
              "rm             -0.219247  0.311991 -0.391676  0.091251 -0.302188  1.000000   \n",
              "age             0.352734 -0.569537  0.644779  0.086518  0.731470 -0.240265   \n",
              "dis            -0.379670  0.664408 -0.708027 -0.099176 -0.769230  0.205246   \n",
              "rad             0.625505 -0.311948  0.595129 -0.007368  0.611441 -0.209847   \n",
              "tax             0.582764 -0.314563  0.720760 -0.035587  0.668023 -0.292048   \n",
              "ptratio         0.289946 -0.391679  0.383248 -0.121515  0.188933 -0.355501   \n",
              "lstat           0.455621 -0.412995  0.603800 -0.053929  0.590879 -0.613808   \n",
              "medv           -0.388305  0.360445 -0.483725  0.175260 -0.427321  0.695360   \n",
              "crim_above_med  0.409395 -0.436151  0.603260  0.070097  0.723235 -0.156372   \n",
              "\n",
              "                     age       dis       rad       tax   ptratio     lstat  \\\n",
              "crim            0.352734 -0.379670  0.625505  0.582764  0.289946  0.455621   \n",
              "zn             -0.569537  0.664408 -0.311948 -0.314563 -0.391679 -0.412995   \n",
              "indus           0.644779 -0.708027  0.595129  0.720760  0.383248  0.603800   \n",
              "chas            0.086518 -0.099176 -0.007368 -0.035587 -0.121515 -0.053929   \n",
              "nox             0.731470 -0.769230  0.611441  0.668023  0.188933  0.590879   \n",
              "rm             -0.240265  0.205246 -0.209847 -0.292048 -0.355501 -0.613808   \n",
              "age             1.000000 -0.747881  0.456022  0.506456  0.261515  0.602339   \n",
              "dis            -0.747881  1.000000 -0.494588 -0.534432 -0.232471 -0.496996   \n",
              "rad             0.456022 -0.494588  1.000000  0.910228  0.464741  0.488676   \n",
              "tax             0.506456 -0.534432  0.910228  1.000000  0.460853  0.543993   \n",
              "ptratio         0.261515 -0.232471  0.464741  0.460853  1.000000  0.374044   \n",
              "lstat           0.602339 -0.496996  0.488676  0.543993  0.374044  1.000000   \n",
              "medv           -0.376955  0.249929 -0.381626 -0.468536 -0.507787 -0.737663   \n",
              "crim_above_med  0.613940 -0.616342  0.619786  0.608741  0.253568  0.453263   \n",
              "\n",
              "                    medv  crim_above_med  \n",
              "crim           -0.388305        0.409395  \n",
              "zn              0.360445       -0.436151  \n",
              "indus          -0.483725        0.603260  \n",
              "chas            0.175260        0.070097  \n",
              "nox            -0.427321        0.723235  \n",
              "rm              0.695360       -0.156372  \n",
              "age            -0.376955        0.613940  \n",
              "dis             0.249929       -0.616342  \n",
              "rad            -0.381626        0.619786  \n",
              "tax            -0.468536        0.608741  \n",
              "ptratio        -0.507787        0.253568  \n",
              "lstat          -0.737663        0.453263  \n",
              "medv            1.000000       -0.263017  \n",
              "crim_above_med -0.263017        1.000000  "
            ],
            "text/html": [
              "\n",
              "  <div id=\"df-268f6907-7bae-497b-bbb6-24df8ce99209\" class=\"colab-df-container\">\n",
              "    <div>\n",
              "<style scoped>\n",
              "    .dataframe tbody tr th:only-of-type {\n",
              "        vertical-align: middle;\n",
              "    }\n",
              "\n",
              "    .dataframe tbody tr th {\n",
              "        vertical-align: top;\n",
              "    }\n",
              "\n",
              "    .dataframe thead th {\n",
              "        text-align: right;\n",
              "    }\n",
              "</style>\n",
              "<table border=\"1\" class=\"dataframe\">\n",
              "  <thead>\n",
              "    <tr style=\"text-align: right;\">\n",
              "      <th></th>\n",
              "      <th>crim</th>\n",
              "      <th>zn</th>\n",
              "      <th>indus</th>\n",
              "      <th>chas</th>\n",
              "      <th>nox</th>\n",
              "      <th>rm</th>\n",
              "      <th>age</th>\n",
              "      <th>dis</th>\n",
              "      <th>rad</th>\n",
              "      <th>tax</th>\n",
              "      <th>ptratio</th>\n",
              "      <th>lstat</th>\n",
              "      <th>medv</th>\n",
              "      <th>crim_above_med</th>\n",
              "    </tr>\n",
              "  </thead>\n",
              "  <tbody>\n",
              "    <tr>\n",
              "      <th>crim</th>\n",
              "      <td>1.000000</td>\n",
              "      <td>-0.200469</td>\n",
              "      <td>0.406583</td>\n",
              "      <td>-0.055892</td>\n",
              "      <td>0.420972</td>\n",
              "      <td>-0.219247</td>\n",
              "      <td>0.352734</td>\n",
              "      <td>-0.379670</td>\n",
              "      <td>0.625505</td>\n",
              "      <td>0.582764</td>\n",
              "      <td>0.289946</td>\n",
              "      <td>0.455621</td>\n",
              "      <td>-0.388305</td>\n",
              "      <td>0.409395</td>\n",
              "    </tr>\n",
              "    <tr>\n",
              "      <th>zn</th>\n",
              "      <td>-0.200469</td>\n",
              "      <td>1.000000</td>\n",
              "      <td>-0.533828</td>\n",
              "      <td>-0.042697</td>\n",
              "      <td>-0.516604</td>\n",
              "      <td>0.311991</td>\n",
              "      <td>-0.569537</td>\n",
              "      <td>0.664408</td>\n",
              "      <td>-0.311948</td>\n",
              "      <td>-0.314563</td>\n",
              "      <td>-0.391679</td>\n",
              "      <td>-0.412995</td>\n",
              "      <td>0.360445</td>\n",
              "      <td>-0.436151</td>\n",
              "    </tr>\n",
              "    <tr>\n",
              "      <th>indus</th>\n",
              "      <td>0.406583</td>\n",
              "      <td>-0.533828</td>\n",
              "      <td>1.000000</td>\n",
              "      <td>0.062938</td>\n",
              "      <td>0.763651</td>\n",
              "      <td>-0.391676</td>\n",
              "      <td>0.644779</td>\n",
              "      <td>-0.708027</td>\n",
              "      <td>0.595129</td>\n",
              "      <td>0.720760</td>\n",
              "      <td>0.383248</td>\n",
              "      <td>0.603800</td>\n",
              "      <td>-0.483725</td>\n",
              "      <td>0.603260</td>\n",
              "    </tr>\n",
              "    <tr>\n",
              "      <th>chas</th>\n",
              "      <td>-0.055892</td>\n",
              "      <td>-0.042697</td>\n",
              "      <td>0.062938</td>\n",
              "      <td>1.000000</td>\n",
              "      <td>0.091203</td>\n",
              "      <td>0.091251</td>\n",
              "      <td>0.086518</td>\n",
              "      <td>-0.099176</td>\n",
              "      <td>-0.007368</td>\n",
              "      <td>-0.035587</td>\n",
              "      <td>-0.121515</td>\n",
              "      <td>-0.053929</td>\n",
              "      <td>0.175260</td>\n",
              "      <td>0.070097</td>\n",
              "    </tr>\n",
              "    <tr>\n",
              "      <th>nox</th>\n",
              "      <td>0.420972</td>\n",
              "      <td>-0.516604</td>\n",
              "      <td>0.763651</td>\n",
              "      <td>0.091203</td>\n",
              "      <td>1.000000</td>\n",
              "      <td>-0.302188</td>\n",
              "      <td>0.731470</td>\n",
              "      <td>-0.769230</td>\n",
              "      <td>0.611441</td>\n",
              "      <td>0.668023</td>\n",
              "      <td>0.188933</td>\n",
              "      <td>0.590879</td>\n",
              "      <td>-0.427321</td>\n",
              "      <td>0.723235</td>\n",
              "    </tr>\n",
              "    <tr>\n",
              "      <th>rm</th>\n",
              "      <td>-0.219247</td>\n",
              "      <td>0.311991</td>\n",
              "      <td>-0.391676</td>\n",
              "      <td>0.091251</td>\n",
              "      <td>-0.302188</td>\n",
              "      <td>1.000000</td>\n",
              "      <td>-0.240265</td>\n",
              "      <td>0.205246</td>\n",
              "      <td>-0.209847</td>\n",
              "      <td>-0.292048</td>\n",
              "      <td>-0.355501</td>\n",
              "      <td>-0.613808</td>\n",
              "      <td>0.695360</td>\n",
              "      <td>-0.156372</td>\n",
              "    </tr>\n",
              "    <tr>\n",
              "      <th>age</th>\n",
              "      <td>0.352734</td>\n",
              "      <td>-0.569537</td>\n",
              "      <td>0.644779</td>\n",
              "      <td>0.086518</td>\n",
              "      <td>0.731470</td>\n",
              "      <td>-0.240265</td>\n",
              "      <td>1.000000</td>\n",
              "      <td>-0.747881</td>\n",
              "      <td>0.456022</td>\n",
              "      <td>0.506456</td>\n",
              "      <td>0.261515</td>\n",
              "      <td>0.602339</td>\n",
              "      <td>-0.376955</td>\n",
              "      <td>0.613940</td>\n",
              "    </tr>\n",
              "    <tr>\n",
              "      <th>dis</th>\n",
              "      <td>-0.379670</td>\n",
              "      <td>0.664408</td>\n",
              "      <td>-0.708027</td>\n",
              "      <td>-0.099176</td>\n",
              "      <td>-0.769230</td>\n",
              "      <td>0.205246</td>\n",
              "      <td>-0.747881</td>\n",
              "      <td>1.000000</td>\n",
              "      <td>-0.494588</td>\n",
              "      <td>-0.534432</td>\n",
              "      <td>-0.232471</td>\n",
              "      <td>-0.496996</td>\n",
              "      <td>0.249929</td>\n",
              "      <td>-0.616342</td>\n",
              "    </tr>\n",
              "    <tr>\n",
              "      <th>rad</th>\n",
              "      <td>0.625505</td>\n",
              "      <td>-0.311948</td>\n",
              "      <td>0.595129</td>\n",
              "      <td>-0.007368</td>\n",
              "      <td>0.611441</td>\n",
              "      <td>-0.209847</td>\n",
              "      <td>0.456022</td>\n",
              "      <td>-0.494588</td>\n",
              "      <td>1.000000</td>\n",
              "      <td>0.910228</td>\n",
              "      <td>0.464741</td>\n",
              "      <td>0.488676</td>\n",
              "      <td>-0.381626</td>\n",
              "      <td>0.619786</td>\n",
              "    </tr>\n",
              "    <tr>\n",
              "      <th>tax</th>\n",
              "      <td>0.582764</td>\n",
              "      <td>-0.314563</td>\n",
              "      <td>0.720760</td>\n",
              "      <td>-0.035587</td>\n",
              "      <td>0.668023</td>\n",
              "      <td>-0.292048</td>\n",
              "      <td>0.506456</td>\n",
              "      <td>-0.534432</td>\n",
              "      <td>0.910228</td>\n",
              "      <td>1.000000</td>\n",
              "      <td>0.460853</td>\n",
              "      <td>0.543993</td>\n",
              "      <td>-0.468536</td>\n",
              "      <td>0.608741</td>\n",
              "    </tr>\n",
              "    <tr>\n",
              "      <th>ptratio</th>\n",
              "      <td>0.289946</td>\n",
              "      <td>-0.391679</td>\n",
              "      <td>0.383248</td>\n",
              "      <td>-0.121515</td>\n",
              "      <td>0.188933</td>\n",
              "      <td>-0.355501</td>\n",
              "      <td>0.261515</td>\n",
              "      <td>-0.232471</td>\n",
              "      <td>0.464741</td>\n",
              "      <td>0.460853</td>\n",
              "      <td>1.000000</td>\n",
              "      <td>0.374044</td>\n",
              "      <td>-0.507787</td>\n",
              "      <td>0.253568</td>\n",
              "    </tr>\n",
              "    <tr>\n",
              "      <th>lstat</th>\n",
              "      <td>0.455621</td>\n",
              "      <td>-0.412995</td>\n",
              "      <td>0.603800</td>\n",
              "      <td>-0.053929</td>\n",
              "      <td>0.590879</td>\n",
              "      <td>-0.613808</td>\n",
              "      <td>0.602339</td>\n",
              "      <td>-0.496996</td>\n",
              "      <td>0.488676</td>\n",
              "      <td>0.543993</td>\n",
              "      <td>0.374044</td>\n",
              "      <td>1.000000</td>\n",
              "      <td>-0.737663</td>\n",
              "      <td>0.453263</td>\n",
              "    </tr>\n",
              "    <tr>\n",
              "      <th>medv</th>\n",
              "      <td>-0.388305</td>\n",
              "      <td>0.360445</td>\n",
              "      <td>-0.483725</td>\n",
              "      <td>0.175260</td>\n",
              "      <td>-0.427321</td>\n",
              "      <td>0.695360</td>\n",
              "      <td>-0.376955</td>\n",
              "      <td>0.249929</td>\n",
              "      <td>-0.381626</td>\n",
              "      <td>-0.468536</td>\n",
              "      <td>-0.507787</td>\n",
              "      <td>-0.737663</td>\n",
              "      <td>1.000000</td>\n",
              "      <td>-0.263017</td>\n",
              "    </tr>\n",
              "    <tr>\n",
              "      <th>crim_above_med</th>\n",
              "      <td>0.409395</td>\n",
              "      <td>-0.436151</td>\n",
              "      <td>0.603260</td>\n",
              "      <td>0.070097</td>\n",
              "      <td>0.723235</td>\n",
              "      <td>-0.156372</td>\n",
              "      <td>0.613940</td>\n",
              "      <td>-0.616342</td>\n",
              "      <td>0.619786</td>\n",
              "      <td>0.608741</td>\n",
              "      <td>0.253568</td>\n",
              "      <td>0.453263</td>\n",
              "      <td>-0.263017</td>\n",
              "      <td>1.000000</td>\n",
              "    </tr>\n",
              "  </tbody>\n",
              "</table>\n",
              "</div>\n",
              "    <div class=\"colab-df-buttons\">\n",
              "\n",
              "  <div class=\"colab-df-container\">\n",
              "    <button class=\"colab-df-convert\" onclick=\"convertToInteractive('df-268f6907-7bae-497b-bbb6-24df8ce99209')\"\n",
              "            title=\"Convert this dataframe to an interactive table.\"\n",
              "            style=\"display:none;\">\n",
              "\n",
              "  <svg xmlns=\"http://www.w3.org/2000/svg\" height=\"24px\" viewBox=\"0 -960 960 960\">\n",
              "    <path d=\"M120-120v-720h720v720H120Zm60-500h600v-160H180v160Zm220 220h160v-160H400v160Zm0 220h160v-160H400v160ZM180-400h160v-160H180v160Zm440 0h160v-160H620v160ZM180-180h160v-160H180v160Zm440 0h160v-160H620v160Z\"/>\n",
              "  </svg>\n",
              "    </button>\n",
              "\n",
              "  <style>\n",
              "    .colab-df-container {\n",
              "      display:flex;\n",
              "      gap: 12px;\n",
              "    }\n",
              "\n",
              "    .colab-df-convert {\n",
              "      background-color: #E8F0FE;\n",
              "      border: none;\n",
              "      border-radius: 50%;\n",
              "      cursor: pointer;\n",
              "      display: none;\n",
              "      fill: #1967D2;\n",
              "      height: 32px;\n",
              "      padding: 0 0 0 0;\n",
              "      width: 32px;\n",
              "    }\n",
              "\n",
              "    .colab-df-convert:hover {\n",
              "      background-color: #E2EBFA;\n",
              "      box-shadow: 0px 1px 2px rgba(60, 64, 67, 0.3), 0px 1px 3px 1px rgba(60, 64, 67, 0.15);\n",
              "      fill: #174EA6;\n",
              "    }\n",
              "\n",
              "    .colab-df-buttons div {\n",
              "      margin-bottom: 4px;\n",
              "    }\n",
              "\n",
              "    [theme=dark] .colab-df-convert {\n",
              "      background-color: #3B4455;\n",
              "      fill: #D2E3FC;\n",
              "    }\n",
              "\n",
              "    [theme=dark] .colab-df-convert:hover {\n",
              "      background-color: #434B5C;\n",
              "      box-shadow: 0px 1px 3px 1px rgba(0, 0, 0, 0.15);\n",
              "      filter: drop-shadow(0px 1px 2px rgba(0, 0, 0, 0.3));\n",
              "      fill: #FFFFFF;\n",
              "    }\n",
              "  </style>\n",
              "\n",
              "    <script>\n",
              "      const buttonEl =\n",
              "        document.querySelector('#df-268f6907-7bae-497b-bbb6-24df8ce99209 button.colab-df-convert');\n",
              "      buttonEl.style.display =\n",
              "        google.colab.kernel.accessAllowed ? 'block' : 'none';\n",
              "\n",
              "      async function convertToInteractive(key) {\n",
              "        const element = document.querySelector('#df-268f6907-7bae-497b-bbb6-24df8ce99209');\n",
              "        const dataTable =\n",
              "          await google.colab.kernel.invokeFunction('convertToInteractive',\n",
              "                                                    [key], {});\n",
              "        if (!dataTable) return;\n",
              "\n",
              "        const docLinkHtml = 'Like what you see? Visit the ' +\n",
              "          '<a target=\"_blank\" href=https://colab.research.google.com/notebooks/data_table.ipynb>data table notebook</a>'\n",
              "          + ' to learn more about interactive tables.';\n",
              "        element.innerHTML = '';\n",
              "        dataTable['output_type'] = 'display_data';\n",
              "        await google.colab.output.renderOutput(dataTable, element);\n",
              "        const docLink = document.createElement('div');\n",
              "        docLink.innerHTML = docLinkHtml;\n",
              "        element.appendChild(docLink);\n",
              "      }\n",
              "    </script>\n",
              "  </div>\n",
              "\n",
              "\n",
              "<div id=\"df-37ea9e99-3d43-488e-8206-9f4d1df6cd4c\">\n",
              "  <button class=\"colab-df-quickchart\" onclick=\"quickchart('df-37ea9e99-3d43-488e-8206-9f4d1df6cd4c')\"\n",
              "            title=\"Suggest charts\"\n",
              "            style=\"display:none;\">\n",
              "\n",
              "<svg xmlns=\"http://www.w3.org/2000/svg\" height=\"24px\"viewBox=\"0 0 24 24\"\n",
              "     width=\"24px\">\n",
              "    <g>\n",
              "        <path d=\"M19 3H5c-1.1 0-2 .9-2 2v14c0 1.1.9 2 2 2h14c1.1 0 2-.9 2-2V5c0-1.1-.9-2-2-2zM9 17H7v-7h2v7zm4 0h-2V7h2v10zm4 0h-2v-4h2v4z\"/>\n",
              "    </g>\n",
              "</svg>\n",
              "  </button>\n",
              "\n",
              "<style>\n",
              "  .colab-df-quickchart {\n",
              "      --bg-color: #E8F0FE;\n",
              "      --fill-color: #1967D2;\n",
              "      --hover-bg-color: #E2EBFA;\n",
              "      --hover-fill-color: #174EA6;\n",
              "      --disabled-fill-color: #AAA;\n",
              "      --disabled-bg-color: #DDD;\n",
              "  }\n",
              "\n",
              "  [theme=dark] .colab-df-quickchart {\n",
              "      --bg-color: #3B4455;\n",
              "      --fill-color: #D2E3FC;\n",
              "      --hover-bg-color: #434B5C;\n",
              "      --hover-fill-color: #FFFFFF;\n",
              "      --disabled-bg-color: #3B4455;\n",
              "      --disabled-fill-color: #666;\n",
              "  }\n",
              "\n",
              "  .colab-df-quickchart {\n",
              "    background-color: var(--bg-color);\n",
              "    border: none;\n",
              "    border-radius: 50%;\n",
              "    cursor: pointer;\n",
              "    display: none;\n",
              "    fill: var(--fill-color);\n",
              "    height: 32px;\n",
              "    padding: 0;\n",
              "    width: 32px;\n",
              "  }\n",
              "\n",
              "  .colab-df-quickchart:hover {\n",
              "    background-color: var(--hover-bg-color);\n",
              "    box-shadow: 0 1px 2px rgba(60, 64, 67, 0.3), 0 1px 3px 1px rgba(60, 64, 67, 0.15);\n",
              "    fill: var(--button-hover-fill-color);\n",
              "  }\n",
              "\n",
              "  .colab-df-quickchart-complete:disabled,\n",
              "  .colab-df-quickchart-complete:disabled:hover {\n",
              "    background-color: var(--disabled-bg-color);\n",
              "    fill: var(--disabled-fill-color);\n",
              "    box-shadow: none;\n",
              "  }\n",
              "\n",
              "  .colab-df-spinner {\n",
              "    border: 2px solid var(--fill-color);\n",
              "    border-color: transparent;\n",
              "    border-bottom-color: var(--fill-color);\n",
              "    animation:\n",
              "      spin 1s steps(1) infinite;\n",
              "  }\n",
              "\n",
              "  @keyframes spin {\n",
              "    0% {\n",
              "      border-color: transparent;\n",
              "      border-bottom-color: var(--fill-color);\n",
              "      border-left-color: var(--fill-color);\n",
              "    }\n",
              "    20% {\n",
              "      border-color: transparent;\n",
              "      border-left-color: var(--fill-color);\n",
              "      border-top-color: var(--fill-color);\n",
              "    }\n",
              "    30% {\n",
              "      border-color: transparent;\n",
              "      border-left-color: var(--fill-color);\n",
              "      border-top-color: var(--fill-color);\n",
              "      border-right-color: var(--fill-color);\n",
              "    }\n",
              "    40% {\n",
              "      border-color: transparent;\n",
              "      border-right-color: var(--fill-color);\n",
              "      border-top-color: var(--fill-color);\n",
              "    }\n",
              "    60% {\n",
              "      border-color: transparent;\n",
              "      border-right-color: var(--fill-color);\n",
              "    }\n",
              "    80% {\n",
              "      border-color: transparent;\n",
              "      border-right-color: var(--fill-color);\n",
              "      border-bottom-color: var(--fill-color);\n",
              "    }\n",
              "    90% {\n",
              "      border-color: transparent;\n",
              "      border-bottom-color: var(--fill-color);\n",
              "    }\n",
              "  }\n",
              "</style>\n",
              "\n",
              "  <script>\n",
              "    async function quickchart(key) {\n",
              "      const quickchartButtonEl =\n",
              "        document.querySelector('#' + key + ' button');\n",
              "      quickchartButtonEl.disabled = true;  // To prevent multiple clicks.\n",
              "      quickchartButtonEl.classList.add('colab-df-spinner');\n",
              "      try {\n",
              "        const charts = await google.colab.kernel.invokeFunction(\n",
              "            'suggestCharts', [key], {});\n",
              "      } catch (error) {\n",
              "        console.error('Error during call to suggestCharts:', error);\n",
              "      }\n",
              "      quickchartButtonEl.classList.remove('colab-df-spinner');\n",
              "      quickchartButtonEl.classList.add('colab-df-quickchart-complete');\n",
              "    }\n",
              "    (() => {\n",
              "      let quickchartButtonEl =\n",
              "        document.querySelector('#df-37ea9e99-3d43-488e-8206-9f4d1df6cd4c button');\n",
              "      quickchartButtonEl.style.display =\n",
              "        google.colab.kernel.accessAllowed ? 'block' : 'none';\n",
              "    })();\n",
              "  </script>\n",
              "</div>\n",
              "\n",
              "    </div>\n",
              "  </div>\n"
            ],
            "application/vnd.google.colaboratory.intrinsic+json": {
              "type": "dataframe",
              "summary": "{\n  \"name\": \"Boston\",\n  \"rows\": 14,\n  \"fields\": [\n    {\n      \"column\": \"crim\",\n      \"properties\": {\n        \"dtype\": \"number\",\n        \"std\": 0.41746173726383673,\n        \"min\": -0.38830460858681154,\n        \"max\": 1.0,\n        \"num_unique_values\": 14,\n        \"samples\": [\n          0.5827643120325854,\n          0.4556214794479463,\n          1.0\n        ],\n        \"semantic_type\": \"\",\n        \"description\": \"\"\n      }\n    },\n    {\n      \"column\": \"zn\",\n      \"properties\": {\n        \"dtype\": \"number\",\n        \"std\": 0.4929245978855706,\n        \"min\": -0.5695373420992109,\n        \"max\": 1.0,\n        \"num_unique_values\": 14,\n        \"samples\": [\n          -0.3145633246775997,\n          -0.41299457452700283,\n          -0.20046921966254744\n        ],\n        \"semantic_type\": \"\",\n        \"description\": \"\"\n      }\n    },\n    {\n      \"column\": \"indus\",\n      \"properties\": {\n        \"dtype\": \"number\",\n        \"std\": 0.5636735989380343,\n        \"min\": -0.7080269887427675,\n        \"max\": 1.0,\n        \"num_unique_values\": 14,\n        \"samples\": [\n          0.7207601799515422,\n          0.603799716476621,\n          0.4065834114062594\n        ],\n        \"semantic_type\": \"\",\n        \"description\": \"\"\n      }\n    },\n    {\n      \"column\": \"chas\",\n      \"properties\": {\n        \"dtype\": \"number\",\n        \"std\": 0.277516655661867,\n        \"min\": -0.12151517365806228,\n        \"max\": 1.0,\n        \"num_unique_values\": 14,\n        \"samples\": [\n          -0.03558651758591146,\n          -0.05392929837569424,\n          -0.05589158222224156\n        ],\n        \"semantic_type\": \"\",\n        \"description\": \"\"\n      }\n    },\n    {\n      \"column\": \"nox\",\n      \"properties\": {\n        \"dtype\": \"number\",\n        \"std\": 0.5647781330217716,\n        \"min\": -0.7692301132258282,\n        \"max\": 1.0,\n        \"num_unique_values\": 14,\n        \"samples\": [\n          0.6680232004030217,\n          0.5908789208808451,\n          0.4209717113924554\n        ],\n        \"semantic_type\": \"\",\n        \"description\": \"\"\n      }\n    },\n    {\n      \"column\": \"rm\",\n      \"properties\": {\n        \"dtype\": \"number\",\n        \"std\": 0.4491447310886092,\n        \"min\": -0.6138082718663955,\n        \"max\": 1.0,\n        \"num_unique_values\": 14,\n        \"samples\": [\n          -0.2920478326232189,\n          -0.6138082718663955,\n          -0.21924670286251308\n        ],\n        \"semantic_type\": \"\",\n        \"description\": \"\"\n      }\n    },\n    {\n      \"column\": \"age\",\n      \"properties\": {\n        \"dtype\": \"number\",\n        \"std\": 0.5299448360822591,\n        \"min\": -0.747880540868632,\n        \"max\": 1.0,\n        \"num_unique_values\": 14,\n        \"samples\": [\n          0.5064555935507051,\n          0.6023385287262395,\n          0.3527342509013634\n        ],\n        \"semantic_type\": \"\",\n        \"description\": \"\"\n      }\n    },\n    {\n      \"column\": \"dis\",\n      \"properties\": {\n        \"dtype\": \"number\",\n        \"std\": 0.5503853907156894,\n        \"min\": -0.7692301132258282,\n        \"max\": 1.0,\n        \"num_unique_values\": 14,\n        \"samples\": [\n          -0.5344315844084577,\n          -0.4969958308636848,\n          -0.37967008695102467\n        ],\n        \"semantic_type\": \"\",\n        \"description\": \"\"\n      }\n    },\n    {\n      \"column\": \"rad\",\n      \"properties\": {\n        \"dtype\": \"number\",\n        \"std\": 0.49339363403343417,\n        \"min\": -0.4945879296720758,\n        \"max\": 1.0,\n        \"num_unique_values\": 14,\n        \"samples\": [\n          0.9102281885331865,\n          0.4886763349750666,\n          0.6255051452626024\n        ],\n        \"semantic_type\": \"\",\n        \"description\": \"\"\n      }\n    },\n    {\n      \"column\": \"tax\",\n      \"properties\": {\n        \"dtype\": \"number\",\n        \"std\": 0.5265390309843542,\n        \"min\": -0.5344315844084577,\n        \"max\": 1.0,\n        \"num_unique_values\": 14,\n        \"samples\": [\n          1.0,\n          0.5439934120015698,\n          0.5827643120325854\n        ],\n        \"semantic_type\": \"\",\n        \"description\": \"\"\n      }\n    },\n    {\n      \"column\": \"ptratio\",\n      \"properties\": {\n        \"dtype\": \"number\",\n        \"std\": 0.4177426274627701,\n        \"min\": -0.5077866855375623,\n        \"max\": 1.0,\n        \"num_unique_values\": 14,\n        \"samples\": [\n          0.4608530350656702,\n          0.3740443167146772,\n          0.2899455792795226\n        ],\n        \"semantic_type\": \"\",\n        \"description\": \"\"\n      }\n    },\n    {\n      \"column\": \"lstat\",\n      \"properties\": {\n        \"dtype\": \"number\",\n        \"std\": 0.550992005418118,\n        \"min\": -0.7376627261740145,\n        \"max\": 1.0,\n        \"num_unique_values\": 14,\n        \"samples\": [\n          0.5439934120015698,\n          1.0,\n          0.4556214794479463\n        ],\n        \"semantic_type\": \"\",\n        \"description\": \"\"\n      }\n    },\n    {\n      \"column\": \"medv\",\n      \"properties\": {\n        \"dtype\": \"number\",\n        \"std\": 0.5173862195059479,\n        \"min\": -0.7376627261740145,\n        \"max\": 1.0,\n        \"num_unique_values\": 14,\n        \"samples\": [\n          -0.4685359335677667,\n          -0.7376627261740145,\n          -0.38830460858681154\n        ],\n        \"semantic_type\": \"\",\n        \"description\": \"\"\n      }\n    },\n    {\n      \"column\": \"crim_above_med\",\n      \"properties\": {\n        \"dtype\": \"number\",\n        \"std\": 0.4841653598295785,\n        \"min\": -0.6163416418258284,\n        \"max\": 1.0,\n        \"num_unique_values\": 14,\n        \"samples\": [\n          0.6087412828611817,\n          0.4532627324454924,\n          0.409395452845748\n        ],\n        \"semantic_type\": \"\",\n        \"description\": \"\"\n      }\n    }\n  ]\n}"
            }
          },
          "metadata": {},
          "execution_count": 49
        }
      ]
    },
    {
      "cell_type": "code",
      "source": [
        "x=Boston[['indus','nox','age','dis','rad','tax']].values\n",
        "\n",
        "y=Boston['crim_above_med'].values\n",
        "(x_train,x_test,y_train,y_test)=train_test_split(x,y,random_state=1)"
      ],
      "metadata": {
        "id": "Vhcvy958EMeh"
      },
      "execution_count": null,
      "outputs": []
    },
    {
      "cell_type": "code",
      "source": [
        "X = Boston[['indus', 'nox', 'age', 'dis', 'rad', 'tax']]\n",
        "X_const = sm.add_constant(X)\n",
        "Y=(Boston['crim_above_med'] == 1).astype(int)\n",
        "glm=sm.GLM(Y,X_const,family=sm.families.Binomial())\n",
        "results = glm.fit()\n",
        "print(results.summary())\n"
      ],
      "metadata": {
        "colab": {
          "base_uri": "https://localhost:8080/"
        },
        "id": "i5LN10ToEbyC",
        "outputId": "005a35a3-72e2-446d-adbe-07e9d4410594"
      },
      "execution_count": null,
      "outputs": [
        {
          "output_type": "stream",
          "name": "stdout",
          "text": [
            "                 Generalized Linear Model Regression Results                  \n",
            "==============================================================================\n",
            "Dep. Variable:         crim_above_med   No. Observations:                  506\n",
            "Model:                            GLM   Df Residuals:                      499\n",
            "Model Family:                Binomial   Df Model:                            6\n",
            "Link Function:                  Logit   Scale:                          1.0000\n",
            "Method:                          IRLS   Log-Likelihood:                -122.38\n",
            "Date:                Thu, 03 Oct 2024   Deviance:                       244.77\n",
            "Time:                        21:03:14   Pearson chi2:                     294.\n",
            "No. Iterations:                     9   Pseudo R-squ. (CS):             0.5945\n",
            "Covariance Type:            nonrobust                                         \n",
            "==============================================================================\n",
            "                 coef    std err          z      P>|z|      [0.025      0.975]\n",
            "------------------------------------------------------------------------------\n",
            "const        -24.5072      3.744     -6.545      0.000     -31.846     -17.168\n",
            "indus         -0.0576      0.042     -1.360      0.174      -0.141       0.025\n",
            "nox           42.0938      6.919      6.084      0.000      28.533      55.655\n",
            "age            0.0138      0.009      1.582      0.114      -0.003       0.031\n",
            "dis            0.2061      0.146      1.411      0.158      -0.080       0.492\n",
            "rad            0.5982      0.116      5.159      0.000       0.371       0.825\n",
            "tax           -0.0073      0.002     -3.072      0.002      -0.012      -0.003\n",
            "==============================================================================\n"
          ]
        }
      ]
    },
    {
      "cell_type": "code",
      "source": [
        "results.params"
      ],
      "metadata": {
        "colab": {
          "base_uri": "https://localhost:8080/",
          "height": 303
        },
        "id": "ZXEc50SjKl9w",
        "outputId": "07f7318b-bdbf-432b-b9e7-5d62658fa305"
      },
      "execution_count": null,
      "outputs": [
        {
          "output_type": "execute_result",
          "data": {
            "text/plain": [
              "const   -24.507204\n",
              "indus    -0.057598\n",
              "nox      42.093845\n",
              "age       0.013831\n",
              "dis       0.206086\n",
              "rad       0.598177\n",
              "tax      -0.007260\n",
              "dtype: float64"
            ],
            "text/html": [
              "<div>\n",
              "<style scoped>\n",
              "    .dataframe tbody tr th:only-of-type {\n",
              "        vertical-align: middle;\n",
              "    }\n",
              "\n",
              "    .dataframe tbody tr th {\n",
              "        vertical-align: top;\n",
              "    }\n",
              "\n",
              "    .dataframe thead th {\n",
              "        text-align: right;\n",
              "    }\n",
              "</style>\n",
              "<table border=\"1\" class=\"dataframe\">\n",
              "  <thead>\n",
              "    <tr style=\"text-align: right;\">\n",
              "      <th></th>\n",
              "      <th>0</th>\n",
              "    </tr>\n",
              "  </thead>\n",
              "  <tbody>\n",
              "    <tr>\n",
              "      <th>const</th>\n",
              "      <td>-24.507204</td>\n",
              "    </tr>\n",
              "    <tr>\n",
              "      <th>indus</th>\n",
              "      <td>-0.057598</td>\n",
              "    </tr>\n",
              "    <tr>\n",
              "      <th>nox</th>\n",
              "      <td>42.093845</td>\n",
              "    </tr>\n",
              "    <tr>\n",
              "      <th>age</th>\n",
              "      <td>0.013831</td>\n",
              "    </tr>\n",
              "    <tr>\n",
              "      <th>dis</th>\n",
              "      <td>0.206086</td>\n",
              "    </tr>\n",
              "    <tr>\n",
              "      <th>rad</th>\n",
              "      <td>0.598177</td>\n",
              "    </tr>\n",
              "    <tr>\n",
              "      <th>tax</th>\n",
              "      <td>-0.007260</td>\n",
              "    </tr>\n",
              "  </tbody>\n",
              "</table>\n",
              "</div><br><label><b>dtype:</b> float64</label>"
            ]
          },
          "metadata": {},
          "execution_count": 52
        }
      ]
    },
    {
      "cell_type": "code",
      "source": [
        "probs = results.predict()\n",
        "probs[:10]"
      ],
      "metadata": {
        "colab": {
          "base_uri": "https://localhost:8080/"
        },
        "id": "nRhms2U3Kya1",
        "outputId": "fc21eec2-5ed0-4c69-f1d0-effa9366898a"
      },
      "execution_count": null,
      "outputs": [
        {
          "output_type": "execute_result",
          "data": {
            "text/plain": [
              "array([0.14186054, 0.02613241, 0.02054682, 0.03597769, 0.04023172,\n",
              "       0.04270494, 0.47420723, 0.59510774, 0.61447987, 0.5929735 ])"
            ]
          },
          "metadata": {},
          "execution_count": 53
        }
      ]
    },
    {
      "cell_type": "code",
      "source": [
        "labels = np.zeros(Boston.shape[0], dtype=int)\n",
        "labels[probs > 0.5] = 1\n",
        "\n",
        "conf_matrix = confusion_matrix(Boston['crim_above_med'], labels)\n",
        "\n",
        "print(conf_matrix)"
      ],
      "metadata": {
        "colab": {
          "base_uri": "https://localhost:8080/"
        },
        "id": "qlxe2XnuLCNP",
        "outputId": "b6622692-b286-43fc-cec5-4b529e16359c"
      },
      "execution_count": null,
      "outputs": [
        {
          "output_type": "stream",
          "name": "stdout",
          "text": [
            "[[225  28]\n",
            " [ 40 213]]\n"
          ]
        }
      ]
    },
    {
      "cell_type": "code",
      "source": [
        "(225+213)/(225+213+28+40)"
      ],
      "metadata": {
        "colab": {
          "base_uri": "https://localhost:8080/"
        },
        "id": "9N9EN-2FLjcW",
        "outputId": "43c66d67-29bd-487f-d969-5e87c0185861"
      },
      "execution_count": null,
      "outputs": [
        {
          "output_type": "execute_result",
          "data": {
            "text/plain": [
              "0.8656126482213439"
            ]
          },
          "metadata": {},
          "execution_count": 55
        }
      ]
    },
    {
      "cell_type": "markdown",
      "source": [
        "In this case, logistic regression\n",
        "correctly predicted crime rate 86.6% of the time."
      ],
      "metadata": {
        "id": "zxnKfbm0MCrp"
      }
    },
    {
      "cell_type": "markdown",
      "source": [
        "CHAPTER 6 - LINEAR MODEL SELECTION AND REGULARIZATION"
      ],
      "metadata": {
        "id": "VymyJYg-evP1"
      }
    },
    {
      "cell_type": "markdown",
      "source": [
        "Problem 11: (LASSO/Ridge)"
      ],
      "metadata": {
        "id": "Qx820GPJM56A"
      }
    },
    {
      "cell_type": "code",
      "source": [
        "# Set seed for reproducibility\n",
        "np.random.seed(159)\n",
        "\n",
        "boston = pd.read_csv('/content/drive/MyDrive/Boston.csv')\n",
        "\n",
        "X = boston.drop(columns=['Unnamed: 0', 'crim'])\n",
        "y = boston['crim']"
      ],
      "metadata": {
        "id": "Fb-8NVuRTdez"
      },
      "execution_count": null,
      "outputs": []
    },
    {
      "cell_type": "code",
      "source": [
        "# Split data into training and test sets\n",
        "X_train, X_test, y_train, y_test = train_test_split(X, y, test_size=0.3, random_state=42)\n",
        "\n",
        "# Standardize the data for regularization methods\n",
        "scaler = StandardScaler()\n",
        "X_train_scaled = scaler.fit_transform(X_train)\n",
        "X_test_scaled = scaler.transform(X_test)"
      ],
      "metadata": {
        "id": "BtmWL9eLRSWc"
      },
      "execution_count": null,
      "outputs": []
    },
    {
      "cell_type": "code",
      "source": [
        "lasso = Lasso(alpha=0.1)\n",
        "\n",
        "# Fit model to training data\n",
        "lasso.fit(X_train_scaled, y_train)\n",
        "\n",
        "# Predictions and performance on test data\n",
        "y_pred_lasso = lasso.predict(X_test_scaled)\n",
        "lasso_mse = mean_squared_error(y_test, y_pred_lasso)\n",
        "print('Lasso Test MSE:', lasso_mse)\n",
        "print('Lasso Coefficients:', lasso.coef_)"
      ],
      "metadata": {
        "colab": {
          "base_uri": "https://localhost:8080/"
        },
        "id": "7F3eIIaWQ3df",
        "outputId": "70b1ee56-a133-40f1-c90d-42f142ae3db0"
      },
      "execution_count": null,
      "outputs": [
        {
          "output_type": "stream",
          "name": "stdout",
          "text": [
            "Lasso Test MSE: 47.31442490271197\n",
            "Lasso Coefficients: [ 0.68552554 -0.         -0.22260961 -0.62485611  0.14489728  0.10394735\n",
            " -1.41375269  4.50887328  0.         -0.36020619  0.07751059 -1.59727234]\n"
          ]
        }
      ]
    },
    {
      "cell_type": "markdown",
      "source": [
        "Ridge Regression"
      ],
      "metadata": {
        "id": "71eChWZPUStY"
      }
    },
    {
      "cell_type": "code",
      "source": [
        "alphas = np.linspace(0.0001, 1, 100)\n",
        "ridge_cv = RidgeCV(alphas=alphas, store_cv_results=True, scoring='neg_mean_squared_error')\n",
        "\n",
        "# Fit model to training data\n",
        "ridge_cv.fit(X_train_scaled, y_train)\n",
        "\n",
        "# Print the best lambda (alpha) value and its corresponding MSE\n",
        "print('Best lambda (alpha):', ridge_cv.alpha_)\n",
        "print('Best cross-validated MSE:', -np.min(ridge_cv.cv_results_.mean(axis=0)))"
      ],
      "metadata": {
        "colab": {
          "base_uri": "https://localhost:8080/"
        },
        "id": "nUCURTXsUUJy",
        "outputId": "4eb7a14c-c1a4-4048-a626-740cbf353dab"
      },
      "execution_count": null,
      "outputs": [
        {
          "output_type": "stream",
          "name": "stdout",
          "text": [
            "Best lambda (alpha): 1.0\n",
            "Best cross-validated MSE: 0.013249763833102\n"
          ]
        }
      ]
    }
  ]
}