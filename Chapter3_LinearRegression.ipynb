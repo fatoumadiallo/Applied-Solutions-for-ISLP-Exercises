{
  "nbformat": 4,
  "nbformat_minor": 0,
  "metadata": {
    "colab": {
      "provenance": [],
      "mount_file_id": "1WW7kxmz2-zsVZYoui8pf4z1Y0cud8X2R",
      "authorship_tag": "ABX9TyMKY3j398Q7zrCzzieNAsTG"
    },
    "kernelspec": {
      "name": "python3",
      "display_name": "Python 3"
    },
    "language_info": {
      "name": "python"
    }
  },
  "cells": [
    {
      "cell_type": "code",
      "source": [
        "import numpy as np\n",
        "import pandas as pd\n",
        "import matplotlib.pyplot as plt\n",
        "import statsmodels.api as sm\n",
        "import statsmodels.formula.api as smf"
      ],
      "metadata": {
        "id": "wBet3hRO4ndU"
      },
      "execution_count": null,
      "outputs": []
    },
    {
      "cell_type": "markdown",
      "source": [
        "Problem (3):\n",
        "\n",
        "a. Since X3 represents the education level (1 for College, 0 for High School) and the coefficient for X3 is 35, the model predicts that, all other factors being equal, college graduates will earn $35,000 more than high school graduates. However, there is an additional interaction term between GPA and education level, with a coefficient of 10. This means that when GPA is sufficiently high (specifically greater than 3.5), the interaction effect can result in high school graduates earning more than college graduates.\n",
        "\n",
        "The correct answer is:\n",
        "\"For a fixed value of IQ and GPA, high school graduates earn more, on average, than college graduates provided that the GPA is high enough.\""
      ],
      "metadata": {
        "id": "EyegxrzHLh7v"
      }
    },
    {
      "cell_type": "markdown",
      "source": [
        "b."
      ],
      "metadata": {
        "id": "o3smBElgSveb"
      }
    },
    {
      "cell_type": "code",
      "execution_count": null,
      "metadata": {
        "id": "4crWzyvgGpdw",
        "colab": {
          "base_uri": "https://localhost:8080/"
        },
        "outputId": "80173176-6f39-428d-fd1c-9ae3a1f46f86"
      },
      "outputs": [
        {
          "output_type": "stream",
          "name": "stdout",
          "text": [
            "$137100.0\n"
          ]
        }
      ],
      "source": [
        "def f(gpa, iq, level):\n",
        "    return 50 + 20*gpa + 0.07*iq + 35*level + 0.01*gpa*iq + (-10*gpa*level)\n",
        "\n",
        "gpa = 4\n",
        "iq  = 110\n",
        "level = 1\n",
        "\n",
        "print('$' + str(f(gpa, iq, level) * 1000))"
      ]
    },
    {
      "cell_type": "markdown",
      "source": [
        "c.\n",
        "\n",
        "False. A small coefficient does not imply there's little evidence of an interaction effect. The significance of the interaction depends on the standard error. If the SE is also very small then the interaction effect could still be statistically significant, meaning the interaction has a meaningful impact on the model."
      ],
      "metadata": {
        "id": "wDsaOqElVZFk"
      }
    },
    {
      "cell_type": "code",
      "source": [
        "auto = pd.read_csv('/content/drive/MyDrive/Colab Notebooks/Auto.csv')\n",
        "auto = auto.dropna()\n",
        "auto.head()"
      ],
      "metadata": {
        "colab": {
          "base_uri": "https://localhost:8080/",
          "height": 206
        },
        "id": "84OUpPstaTMS",
        "outputId": "38352878-1bc2-4184-a4aa-afaadbcc8871"
      },
      "execution_count": null,
      "outputs": [
        {
          "output_type": "execute_result",
          "data": {
            "text/plain": [
              "    mpg  cylinders  displacement horsepower  weight  acceleration  year  \\\n",
              "0  18.0          8         307.0        130    3504          12.0    70   \n",
              "1  15.0          8         350.0        165    3693          11.5    70   \n",
              "2  18.0          8         318.0        150    3436          11.0    70   \n",
              "3  16.0          8         304.0        150    3433          12.0    70   \n",
              "4  17.0          8         302.0        140    3449          10.5    70   \n",
              "\n",
              "   origin                       name  \n",
              "0       1  chevrolet chevelle malibu  \n",
              "1       1          buick skylark 320  \n",
              "2       1         plymouth satellite  \n",
              "3       1              amc rebel sst  \n",
              "4       1                ford torino  "
            ],
            "text/html": [
              "\n",
              "  <div id=\"df-5ee96c54-dd9d-4b67-ba3c-68e4ff52ab98\" class=\"colab-df-container\">\n",
              "    <div>\n",
              "<style scoped>\n",
              "    .dataframe tbody tr th:only-of-type {\n",
              "        vertical-align: middle;\n",
              "    }\n",
              "\n",
              "    .dataframe tbody tr th {\n",
              "        vertical-align: top;\n",
              "    }\n",
              "\n",
              "    .dataframe thead th {\n",
              "        text-align: right;\n",
              "    }\n",
              "</style>\n",
              "<table border=\"1\" class=\"dataframe\">\n",
              "  <thead>\n",
              "    <tr style=\"text-align: right;\">\n",
              "      <th></th>\n",
              "      <th>mpg</th>\n",
              "      <th>cylinders</th>\n",
              "      <th>displacement</th>\n",
              "      <th>horsepower</th>\n",
              "      <th>weight</th>\n",
              "      <th>acceleration</th>\n",
              "      <th>year</th>\n",
              "      <th>origin</th>\n",
              "      <th>name</th>\n",
              "    </tr>\n",
              "  </thead>\n",
              "  <tbody>\n",
              "    <tr>\n",
              "      <th>0</th>\n",
              "      <td>18.0</td>\n",
              "      <td>8</td>\n",
              "      <td>307.0</td>\n",
              "      <td>130</td>\n",
              "      <td>3504</td>\n",
              "      <td>12.0</td>\n",
              "      <td>70</td>\n",
              "      <td>1</td>\n",
              "      <td>chevrolet chevelle malibu</td>\n",
              "    </tr>\n",
              "    <tr>\n",
              "      <th>1</th>\n",
              "      <td>15.0</td>\n",
              "      <td>8</td>\n",
              "      <td>350.0</td>\n",
              "      <td>165</td>\n",
              "      <td>3693</td>\n",
              "      <td>11.5</td>\n",
              "      <td>70</td>\n",
              "      <td>1</td>\n",
              "      <td>buick skylark 320</td>\n",
              "    </tr>\n",
              "    <tr>\n",
              "      <th>2</th>\n",
              "      <td>18.0</td>\n",
              "      <td>8</td>\n",
              "      <td>318.0</td>\n",
              "      <td>150</td>\n",
              "      <td>3436</td>\n",
              "      <td>11.0</td>\n",
              "      <td>70</td>\n",
              "      <td>1</td>\n",
              "      <td>plymouth satellite</td>\n",
              "    </tr>\n",
              "    <tr>\n",
              "      <th>3</th>\n",
              "      <td>16.0</td>\n",
              "      <td>8</td>\n",
              "      <td>304.0</td>\n",
              "      <td>150</td>\n",
              "      <td>3433</td>\n",
              "      <td>12.0</td>\n",
              "      <td>70</td>\n",
              "      <td>1</td>\n",
              "      <td>amc rebel sst</td>\n",
              "    </tr>\n",
              "    <tr>\n",
              "      <th>4</th>\n",
              "      <td>17.0</td>\n",
              "      <td>8</td>\n",
              "      <td>302.0</td>\n",
              "      <td>140</td>\n",
              "      <td>3449</td>\n",
              "      <td>10.5</td>\n",
              "      <td>70</td>\n",
              "      <td>1</td>\n",
              "      <td>ford torino</td>\n",
              "    </tr>\n",
              "  </tbody>\n",
              "</table>\n",
              "</div>\n",
              "    <div class=\"colab-df-buttons\">\n",
              "\n",
              "  <div class=\"colab-df-container\">\n",
              "    <button class=\"colab-df-convert\" onclick=\"convertToInteractive('df-5ee96c54-dd9d-4b67-ba3c-68e4ff52ab98')\"\n",
              "            title=\"Convert this dataframe to an interactive table.\"\n",
              "            style=\"display:none;\">\n",
              "\n",
              "  <svg xmlns=\"http://www.w3.org/2000/svg\" height=\"24px\" viewBox=\"0 -960 960 960\">\n",
              "    <path d=\"M120-120v-720h720v720H120Zm60-500h600v-160H180v160Zm220 220h160v-160H400v160Zm0 220h160v-160H400v160ZM180-400h160v-160H180v160Zm440 0h160v-160H620v160ZM180-180h160v-160H180v160Zm440 0h160v-160H620v160Z\"/>\n",
              "  </svg>\n",
              "    </button>\n",
              "\n",
              "  <style>\n",
              "    .colab-df-container {\n",
              "      display:flex;\n",
              "      gap: 12px;\n",
              "    }\n",
              "\n",
              "    .colab-df-convert {\n",
              "      background-color: #E8F0FE;\n",
              "      border: none;\n",
              "      border-radius: 50%;\n",
              "      cursor: pointer;\n",
              "      display: none;\n",
              "      fill: #1967D2;\n",
              "      height: 32px;\n",
              "      padding: 0 0 0 0;\n",
              "      width: 32px;\n",
              "    }\n",
              "\n",
              "    .colab-df-convert:hover {\n",
              "      background-color: #E2EBFA;\n",
              "      box-shadow: 0px 1px 2px rgba(60, 64, 67, 0.3), 0px 1px 3px 1px rgba(60, 64, 67, 0.15);\n",
              "      fill: #174EA6;\n",
              "    }\n",
              "\n",
              "    .colab-df-buttons div {\n",
              "      margin-bottom: 4px;\n",
              "    }\n",
              "\n",
              "    [theme=dark] .colab-df-convert {\n",
              "      background-color: #3B4455;\n",
              "      fill: #D2E3FC;\n",
              "    }\n",
              "\n",
              "    [theme=dark] .colab-df-convert:hover {\n",
              "      background-color: #434B5C;\n",
              "      box-shadow: 0px 1px 3px 1px rgba(0, 0, 0, 0.15);\n",
              "      filter: drop-shadow(0px 1px 2px rgba(0, 0, 0, 0.3));\n",
              "      fill: #FFFFFF;\n",
              "    }\n",
              "  </style>\n",
              "\n",
              "    <script>\n",
              "      const buttonEl =\n",
              "        document.querySelector('#df-5ee96c54-dd9d-4b67-ba3c-68e4ff52ab98 button.colab-df-convert');\n",
              "      buttonEl.style.display =\n",
              "        google.colab.kernel.accessAllowed ? 'block' : 'none';\n",
              "\n",
              "      async function convertToInteractive(key) {\n",
              "        const element = document.querySelector('#df-5ee96c54-dd9d-4b67-ba3c-68e4ff52ab98');\n",
              "        const dataTable =\n",
              "          await google.colab.kernel.invokeFunction('convertToInteractive',\n",
              "                                                    [key], {});\n",
              "        if (!dataTable) return;\n",
              "\n",
              "        const docLinkHtml = 'Like what you see? Visit the ' +\n",
              "          '<a target=\"_blank\" href=https://colab.research.google.com/notebooks/data_table.ipynb>data table notebook</a>'\n",
              "          + ' to learn more about interactive tables.';\n",
              "        element.innerHTML = '';\n",
              "        dataTable['output_type'] = 'display_data';\n",
              "        await google.colab.output.renderOutput(dataTable, element);\n",
              "        const docLink = document.createElement('div');\n",
              "        docLink.innerHTML = docLinkHtml;\n",
              "        element.appendChild(docLink);\n",
              "      }\n",
              "    </script>\n",
              "  </div>\n",
              "\n",
              "\n",
              "<div id=\"df-18bb2ebd-a774-4b35-b18d-7313af13b605\">\n",
              "  <button class=\"colab-df-quickchart\" onclick=\"quickchart('df-18bb2ebd-a774-4b35-b18d-7313af13b605')\"\n",
              "            title=\"Suggest charts\"\n",
              "            style=\"display:none;\">\n",
              "\n",
              "<svg xmlns=\"http://www.w3.org/2000/svg\" height=\"24px\"viewBox=\"0 0 24 24\"\n",
              "     width=\"24px\">\n",
              "    <g>\n",
              "        <path d=\"M19 3H5c-1.1 0-2 .9-2 2v14c0 1.1.9 2 2 2h14c1.1 0 2-.9 2-2V5c0-1.1-.9-2-2-2zM9 17H7v-7h2v7zm4 0h-2V7h2v10zm4 0h-2v-4h2v4z\"/>\n",
              "    </g>\n",
              "</svg>\n",
              "  </button>\n",
              "\n",
              "<style>\n",
              "  .colab-df-quickchart {\n",
              "      --bg-color: #E8F0FE;\n",
              "      --fill-color: #1967D2;\n",
              "      --hover-bg-color: #E2EBFA;\n",
              "      --hover-fill-color: #174EA6;\n",
              "      --disabled-fill-color: #AAA;\n",
              "      --disabled-bg-color: #DDD;\n",
              "  }\n",
              "\n",
              "  [theme=dark] .colab-df-quickchart {\n",
              "      --bg-color: #3B4455;\n",
              "      --fill-color: #D2E3FC;\n",
              "      --hover-bg-color: #434B5C;\n",
              "      --hover-fill-color: #FFFFFF;\n",
              "      --disabled-bg-color: #3B4455;\n",
              "      --disabled-fill-color: #666;\n",
              "  }\n",
              "\n",
              "  .colab-df-quickchart {\n",
              "    background-color: var(--bg-color);\n",
              "    border: none;\n",
              "    border-radius: 50%;\n",
              "    cursor: pointer;\n",
              "    display: none;\n",
              "    fill: var(--fill-color);\n",
              "    height: 32px;\n",
              "    padding: 0;\n",
              "    width: 32px;\n",
              "  }\n",
              "\n",
              "  .colab-df-quickchart:hover {\n",
              "    background-color: var(--hover-bg-color);\n",
              "    box-shadow: 0 1px 2px rgba(60, 64, 67, 0.3), 0 1px 3px 1px rgba(60, 64, 67, 0.15);\n",
              "    fill: var(--button-hover-fill-color);\n",
              "  }\n",
              "\n",
              "  .colab-df-quickchart-complete:disabled,\n",
              "  .colab-df-quickchart-complete:disabled:hover {\n",
              "    background-color: var(--disabled-bg-color);\n",
              "    fill: var(--disabled-fill-color);\n",
              "    box-shadow: none;\n",
              "  }\n",
              "\n",
              "  .colab-df-spinner {\n",
              "    border: 2px solid var(--fill-color);\n",
              "    border-color: transparent;\n",
              "    border-bottom-color: var(--fill-color);\n",
              "    animation:\n",
              "      spin 1s steps(1) infinite;\n",
              "  }\n",
              "\n",
              "  @keyframes spin {\n",
              "    0% {\n",
              "      border-color: transparent;\n",
              "      border-bottom-color: var(--fill-color);\n",
              "      border-left-color: var(--fill-color);\n",
              "    }\n",
              "    20% {\n",
              "      border-color: transparent;\n",
              "      border-left-color: var(--fill-color);\n",
              "      border-top-color: var(--fill-color);\n",
              "    }\n",
              "    30% {\n",
              "      border-color: transparent;\n",
              "      border-left-color: var(--fill-color);\n",
              "      border-top-color: var(--fill-color);\n",
              "      border-right-color: var(--fill-color);\n",
              "    }\n",
              "    40% {\n",
              "      border-color: transparent;\n",
              "      border-right-color: var(--fill-color);\n",
              "      border-top-color: var(--fill-color);\n",
              "    }\n",
              "    60% {\n",
              "      border-color: transparent;\n",
              "      border-right-color: var(--fill-color);\n",
              "    }\n",
              "    80% {\n",
              "      border-color: transparent;\n",
              "      border-right-color: var(--fill-color);\n",
              "      border-bottom-color: var(--fill-color);\n",
              "    }\n",
              "    90% {\n",
              "      border-color: transparent;\n",
              "      border-bottom-color: var(--fill-color);\n",
              "    }\n",
              "  }\n",
              "</style>\n",
              "\n",
              "  <script>\n",
              "    async function quickchart(key) {\n",
              "      const quickchartButtonEl =\n",
              "        document.querySelector('#' + key + ' button');\n",
              "      quickchartButtonEl.disabled = true;  // To prevent multiple clicks.\n",
              "      quickchartButtonEl.classList.add('colab-df-spinner');\n",
              "      try {\n",
              "        const charts = await google.colab.kernel.invokeFunction(\n",
              "            'suggestCharts', [key], {});\n",
              "      } catch (error) {\n",
              "        console.error('Error during call to suggestCharts:', error);\n",
              "      }\n",
              "      quickchartButtonEl.classList.remove('colab-df-spinner');\n",
              "      quickchartButtonEl.classList.add('colab-df-quickchart-complete');\n",
              "    }\n",
              "    (() => {\n",
              "      let quickchartButtonEl =\n",
              "        document.querySelector('#df-18bb2ebd-a774-4b35-b18d-7313af13b605 button');\n",
              "      quickchartButtonEl.style.display =\n",
              "        google.colab.kernel.accessAllowed ? 'block' : 'none';\n",
              "    })();\n",
              "  </script>\n",
              "</div>\n",
              "\n",
              "    </div>\n",
              "  </div>\n"
            ],
            "application/vnd.google.colaboratory.intrinsic+json": {
              "type": "dataframe",
              "variable_name": "auto",
              "summary": "{\n  \"name\": \"auto\",\n  \"rows\": 397,\n  \"fields\": [\n    {\n      \"column\": \"mpg\",\n      \"properties\": {\n        \"dtype\": \"number\",\n        \"std\": 7.825803928946563,\n        \"min\": 9.0,\n        \"max\": 46.6,\n        \"num_unique_values\": 129,\n        \"samples\": [\n          17.7,\n          30.5,\n          30.0\n        ],\n        \"semantic_type\": \"\",\n        \"description\": \"\"\n      }\n    },\n    {\n      \"column\": \"cylinders\",\n      \"properties\": {\n        \"dtype\": \"number\",\n        \"std\": 1,\n        \"min\": 3,\n        \"max\": 8,\n        \"num_unique_values\": 5,\n        \"samples\": [\n          4,\n          5,\n          6\n        ],\n        \"semantic_type\": \"\",\n        \"description\": \"\"\n      }\n    },\n    {\n      \"column\": \"displacement\",\n      \"properties\": {\n        \"dtype\": \"number\",\n        \"std\": 104.37958329992955,\n        \"min\": 68.0,\n        \"max\": 455.0,\n        \"num_unique_values\": 82,\n        \"samples\": [\n          122.0,\n          307.0,\n          360.0\n        ],\n        \"semantic_type\": \"\",\n        \"description\": \"\"\n      }\n    },\n    {\n      \"column\": \"horsepower\",\n      \"properties\": {\n        \"dtype\": \"category\",\n        \"num_unique_values\": 94,\n        \"samples\": [\n          \"112\",\n          \"?\",\n          \"78\"\n        ],\n        \"semantic_type\": \"\",\n        \"description\": \"\"\n      }\n    },\n    {\n      \"column\": \"weight\",\n      \"properties\": {\n        \"dtype\": \"number\",\n        \"std\": 847,\n        \"min\": 1613,\n        \"max\": 5140,\n        \"num_unique_values\": 350,\n        \"samples\": [\n          3730,\n          1995,\n          2050\n        ],\n        \"semantic_type\": \"\",\n        \"description\": \"\"\n      }\n    },\n    {\n      \"column\": \"acceleration\",\n      \"properties\": {\n        \"dtype\": \"number\",\n        \"std\": 2.749995292976151,\n        \"min\": 8.0,\n        \"max\": 24.8,\n        \"num_unique_values\": 95,\n        \"samples\": [\n          14.7,\n          18.0,\n          14.3\n        ],\n        \"semantic_type\": \"\",\n        \"description\": \"\"\n      }\n    },\n    {\n      \"column\": \"year\",\n      \"properties\": {\n        \"dtype\": \"number\",\n        \"std\": 3,\n        \"min\": 70,\n        \"max\": 82,\n        \"num_unique_values\": 13,\n        \"samples\": [\n          81,\n          79,\n          70\n        ],\n        \"semantic_type\": \"\",\n        \"description\": \"\"\n      }\n    },\n    {\n      \"column\": \"origin\",\n      \"properties\": {\n        \"dtype\": \"number\",\n        \"std\": 0,\n        \"min\": 1,\n        \"max\": 3,\n        \"num_unique_values\": 3,\n        \"samples\": [\n          1,\n          3,\n          2\n        ],\n        \"semantic_type\": \"\",\n        \"description\": \"\"\n      }\n    },\n    {\n      \"column\": \"name\",\n      \"properties\": {\n        \"dtype\": \"string\",\n        \"num_unique_values\": 304,\n        \"samples\": [\n          \"mazda rx-4\",\n          \"ford f108\",\n          \"buick century luxus (sw)\"\n        ],\n        \"semantic_type\": \"\",\n        \"description\": \"\"\n      }\n    }\n  ]\n}"
            }
          },
          "metadata": {},
          "execution_count": 21
        }
      ]
    },
    {
      "cell_type": "code",
      "source": [
        "auto['horsepower'] = pd.to_numeric(auto['horsepower'], errors='coerce')\n",
        "\n",
        "auto = auto.dropna(subset=['horsepower'])\n",
        "\n",
        "X = auto['horsepower']\n",
        "y = auto['mpg']\n",
        "\n",
        "X = sm.add_constant(X)\n",
        "model = sm.OLS(y, X).fit()\n",
        "\n",
        "print(model.summary())"
      ],
      "metadata": {
        "colab": {
          "base_uri": "https://localhost:8080/"
        },
        "id": "YsPAZqp65lkx",
        "outputId": "b1c06b1d-8054-4adf-bb38-7aaf621e9071"
      },
      "execution_count": null,
      "outputs": [
        {
          "output_type": "stream",
          "name": "stdout",
          "text": [
            "                            OLS Regression Results                            \n",
            "==============================================================================\n",
            "Dep. Variable:                    mpg   R-squared:                       0.606\n",
            "Model:                            OLS   Adj. R-squared:                  0.605\n",
            "Method:                 Least Squares   F-statistic:                     599.7\n",
            "Date:                Tue, 24 Sep 2024   Prob (F-statistic):           7.03e-81\n",
            "Time:                        21:32:38   Log-Likelihood:                -1178.7\n",
            "No. Observations:                 392   AIC:                             2361.\n",
            "Df Residuals:                     390   BIC:                             2369.\n",
            "Df Model:                           1                                         \n",
            "Covariance Type:            nonrobust                                         \n",
            "==============================================================================\n",
            "                 coef    std err          t      P>|t|      [0.025      0.975]\n",
            "------------------------------------------------------------------------------\n",
            "const         39.9359      0.717     55.660      0.000      38.525      41.347\n",
            "horsepower    -0.1578      0.006    -24.489      0.000      -0.171      -0.145\n",
            "==============================================================================\n",
            "Omnibus:                       16.432   Durbin-Watson:                   0.920\n",
            "Prob(Omnibus):                  0.000   Jarque-Bera (JB):               17.305\n",
            "Skew:                           0.492   Prob(JB):                     0.000175\n",
            "Kurtosis:                       3.299   Cond. No.                         322.\n",
            "==============================================================================\n",
            "\n",
            "Notes:\n",
            "[1] Standard Errors assume that the covariance matrix of the errors is correctly specified.\n"
          ]
        }
      ]
    },
    {
      "cell_type": "markdown",
      "source": [
        "i. Yes, the p-value of the horsepower is less than 0.05. Therefore, there is a statistically significant relationship between the predictor (horsepower) and the response (mpg).\n",
        "\n",
        "ii. The relationship is strong since the R-Squared value is closer to 1.\n",
        "\n",
        "iii. There is a negative relationship between horsepower and mpg since we can notice that as horsepower increases, mpg decreases.\n",
        "\n",
        "iv."
      ],
      "metadata": {
        "id": "dACMMyim83RL"
      }
    },
    {
      "cell_type": "code",
      "source": [
        "horsepower_98 = pd.DataFrame({'const': [1], 'horsepower': [98]})\n",
        "predicted_mpg = model.get_prediction(horsepower_98)\n",
        "\n",
        "prediction_summary = predicted_mpg.summary_frame(alpha=0.05)\n",
        "\n",
        "print(prediction_summary)"
      ],
      "metadata": {
        "colab": {
          "base_uri": "https://localhost:8080/"
        },
        "id": "oWjaPJJr_41W",
        "outputId": "5f6eb6ef-0f3e-4684-c86a-ac00044f86c7"
      },
      "execution_count": null,
      "outputs": [
        {
          "output_type": "stream",
          "name": "stdout",
          "text": [
            "        mean   mean_se  mean_ci_lower  mean_ci_upper  obs_ci_lower  \\\n",
            "0  24.467077  0.251262      23.973079      24.961075     14.809396   \n",
            "\n",
            "   obs_ci_upper  \n",
            "0     34.124758  \n"
          ]
        }
      ]
    },
    {
      "cell_type": "code",
      "source": [
        "confidence_interval = [prediction_summary['mean_ci_lower'].values[0], prediction_summary['mean_ci_upper'].values[0]]\n",
        "print(\"Confidence Interval for predicted mpg:\", confidence_interval)"
      ],
      "metadata": {
        "colab": {
          "base_uri": "https://localhost:8080/"
        },
        "id": "Pqto53dwHB70",
        "outputId": "a1c222a5-55a4-4db6-bf45-628326dbdf45"
      },
      "execution_count": null,
      "outputs": [
        {
          "output_type": "stream",
          "name": "stdout",
          "text": [
            "Confidence Interval for predicted mpg: [23.973078960703948, 24.961075344320914]\n"
          ]
        }
      ]
    },
    {
      "cell_type": "markdown",
      "source": [
        "Problem 10\n",
        "\n",
        "a."
      ],
      "metadata": {
        "id": "xvJ9SOStJQLu"
      }
    },
    {
      "cell_type": "code",
      "source": [
        "carseats = pd.read_csv('/content/drive/MyDrive/Colab Notebooks/Carseats.csv')\n",
        "carseats = carseats.dropna()\n",
        "carseats.head()"
      ],
      "metadata": {
        "colab": {
          "base_uri": "https://localhost:8080/",
          "height": 206
        },
        "id": "CYnLGiTZKODC",
        "outputId": "6cc0a066-14fc-4afd-8929-0e1f72dd44f0"
      },
      "execution_count": null,
      "outputs": [
        {
          "output_type": "execute_result",
          "data": {
            "text/plain": [
              "   Sales  CompPrice  Income  Advertising  Population  Price ShelveLoc  Age  \\\n",
              "0   9.50        138      73           11         276    120       Bad   42   \n",
              "1  11.22        111      48           16         260     83      Good   65   \n",
              "2  10.06        113      35           10         269     80    Medium   59   \n",
              "3   7.40        117     100            4         466     97    Medium   55   \n",
              "4   4.15        141      64            3         340    128       Bad   38   \n",
              "\n",
              "   Education Urban   US  \n",
              "0         17   Yes  Yes  \n",
              "1         10   Yes  Yes  \n",
              "2         12   Yes  Yes  \n",
              "3         14   Yes  Yes  \n",
              "4         13   Yes   No  "
            ],
            "text/html": [
              "\n",
              "  <div id=\"df-37970a40-66c6-413f-9196-6c92377ce041\" class=\"colab-df-container\">\n",
              "    <div>\n",
              "<style scoped>\n",
              "    .dataframe tbody tr th:only-of-type {\n",
              "        vertical-align: middle;\n",
              "    }\n",
              "\n",
              "    .dataframe tbody tr th {\n",
              "        vertical-align: top;\n",
              "    }\n",
              "\n",
              "    .dataframe thead th {\n",
              "        text-align: right;\n",
              "    }\n",
              "</style>\n",
              "<table border=\"1\" class=\"dataframe\">\n",
              "  <thead>\n",
              "    <tr style=\"text-align: right;\">\n",
              "      <th></th>\n",
              "      <th>Sales</th>\n",
              "      <th>CompPrice</th>\n",
              "      <th>Income</th>\n",
              "      <th>Advertising</th>\n",
              "      <th>Population</th>\n",
              "      <th>Price</th>\n",
              "      <th>ShelveLoc</th>\n",
              "      <th>Age</th>\n",
              "      <th>Education</th>\n",
              "      <th>Urban</th>\n",
              "      <th>US</th>\n",
              "    </tr>\n",
              "  </thead>\n",
              "  <tbody>\n",
              "    <tr>\n",
              "      <th>0</th>\n",
              "      <td>9.50</td>\n",
              "      <td>138</td>\n",
              "      <td>73</td>\n",
              "      <td>11</td>\n",
              "      <td>276</td>\n",
              "      <td>120</td>\n",
              "      <td>Bad</td>\n",
              "      <td>42</td>\n",
              "      <td>17</td>\n",
              "      <td>Yes</td>\n",
              "      <td>Yes</td>\n",
              "    </tr>\n",
              "    <tr>\n",
              "      <th>1</th>\n",
              "      <td>11.22</td>\n",
              "      <td>111</td>\n",
              "      <td>48</td>\n",
              "      <td>16</td>\n",
              "      <td>260</td>\n",
              "      <td>83</td>\n",
              "      <td>Good</td>\n",
              "      <td>65</td>\n",
              "      <td>10</td>\n",
              "      <td>Yes</td>\n",
              "      <td>Yes</td>\n",
              "    </tr>\n",
              "    <tr>\n",
              "      <th>2</th>\n",
              "      <td>10.06</td>\n",
              "      <td>113</td>\n",
              "      <td>35</td>\n",
              "      <td>10</td>\n",
              "      <td>269</td>\n",
              "      <td>80</td>\n",
              "      <td>Medium</td>\n",
              "      <td>59</td>\n",
              "      <td>12</td>\n",
              "      <td>Yes</td>\n",
              "      <td>Yes</td>\n",
              "    </tr>\n",
              "    <tr>\n",
              "      <th>3</th>\n",
              "      <td>7.40</td>\n",
              "      <td>117</td>\n",
              "      <td>100</td>\n",
              "      <td>4</td>\n",
              "      <td>466</td>\n",
              "      <td>97</td>\n",
              "      <td>Medium</td>\n",
              "      <td>55</td>\n",
              "      <td>14</td>\n",
              "      <td>Yes</td>\n",
              "      <td>Yes</td>\n",
              "    </tr>\n",
              "    <tr>\n",
              "      <th>4</th>\n",
              "      <td>4.15</td>\n",
              "      <td>141</td>\n",
              "      <td>64</td>\n",
              "      <td>3</td>\n",
              "      <td>340</td>\n",
              "      <td>128</td>\n",
              "      <td>Bad</td>\n",
              "      <td>38</td>\n",
              "      <td>13</td>\n",
              "      <td>Yes</td>\n",
              "      <td>No</td>\n",
              "    </tr>\n",
              "  </tbody>\n",
              "</table>\n",
              "</div>\n",
              "    <div class=\"colab-df-buttons\">\n",
              "\n",
              "  <div class=\"colab-df-container\">\n",
              "    <button class=\"colab-df-convert\" onclick=\"convertToInteractive('df-37970a40-66c6-413f-9196-6c92377ce041')\"\n",
              "            title=\"Convert this dataframe to an interactive table.\"\n",
              "            style=\"display:none;\">\n",
              "\n",
              "  <svg xmlns=\"http://www.w3.org/2000/svg\" height=\"24px\" viewBox=\"0 -960 960 960\">\n",
              "    <path d=\"M120-120v-720h720v720H120Zm60-500h600v-160H180v160Zm220 220h160v-160H400v160Zm0 220h160v-160H400v160ZM180-400h160v-160H180v160Zm440 0h160v-160H620v160ZM180-180h160v-160H180v160Zm440 0h160v-160H620v160Z\"/>\n",
              "  </svg>\n",
              "    </button>\n",
              "\n",
              "  <style>\n",
              "    .colab-df-container {\n",
              "      display:flex;\n",
              "      gap: 12px;\n",
              "    }\n",
              "\n",
              "    .colab-df-convert {\n",
              "      background-color: #E8F0FE;\n",
              "      border: none;\n",
              "      border-radius: 50%;\n",
              "      cursor: pointer;\n",
              "      display: none;\n",
              "      fill: #1967D2;\n",
              "      height: 32px;\n",
              "      padding: 0 0 0 0;\n",
              "      width: 32px;\n",
              "    }\n",
              "\n",
              "    .colab-df-convert:hover {\n",
              "      background-color: #E2EBFA;\n",
              "      box-shadow: 0px 1px 2px rgba(60, 64, 67, 0.3), 0px 1px 3px 1px rgba(60, 64, 67, 0.15);\n",
              "      fill: #174EA6;\n",
              "    }\n",
              "\n",
              "    .colab-df-buttons div {\n",
              "      margin-bottom: 4px;\n",
              "    }\n",
              "\n",
              "    [theme=dark] .colab-df-convert {\n",
              "      background-color: #3B4455;\n",
              "      fill: #D2E3FC;\n",
              "    }\n",
              "\n",
              "    [theme=dark] .colab-df-convert:hover {\n",
              "      background-color: #434B5C;\n",
              "      box-shadow: 0px 1px 3px 1px rgba(0, 0, 0, 0.15);\n",
              "      filter: drop-shadow(0px 1px 2px rgba(0, 0, 0, 0.3));\n",
              "      fill: #FFFFFF;\n",
              "    }\n",
              "  </style>\n",
              "\n",
              "    <script>\n",
              "      const buttonEl =\n",
              "        document.querySelector('#df-37970a40-66c6-413f-9196-6c92377ce041 button.colab-df-convert');\n",
              "      buttonEl.style.display =\n",
              "        google.colab.kernel.accessAllowed ? 'block' : 'none';\n",
              "\n",
              "      async function convertToInteractive(key) {\n",
              "        const element = document.querySelector('#df-37970a40-66c6-413f-9196-6c92377ce041');\n",
              "        const dataTable =\n",
              "          await google.colab.kernel.invokeFunction('convertToInteractive',\n",
              "                                                    [key], {});\n",
              "        if (!dataTable) return;\n",
              "\n",
              "        const docLinkHtml = 'Like what you see? Visit the ' +\n",
              "          '<a target=\"_blank\" href=https://colab.research.google.com/notebooks/data_table.ipynb>data table notebook</a>'\n",
              "          + ' to learn more about interactive tables.';\n",
              "        element.innerHTML = '';\n",
              "        dataTable['output_type'] = 'display_data';\n",
              "        await google.colab.output.renderOutput(dataTable, element);\n",
              "        const docLink = document.createElement('div');\n",
              "        docLink.innerHTML = docLinkHtml;\n",
              "        element.appendChild(docLink);\n",
              "      }\n",
              "    </script>\n",
              "  </div>\n",
              "\n",
              "\n",
              "<div id=\"df-daacd353-cdc9-4aed-a665-3e327d7f271f\">\n",
              "  <button class=\"colab-df-quickchart\" onclick=\"quickchart('df-daacd353-cdc9-4aed-a665-3e327d7f271f')\"\n",
              "            title=\"Suggest charts\"\n",
              "            style=\"display:none;\">\n",
              "\n",
              "<svg xmlns=\"http://www.w3.org/2000/svg\" height=\"24px\"viewBox=\"0 0 24 24\"\n",
              "     width=\"24px\">\n",
              "    <g>\n",
              "        <path d=\"M19 3H5c-1.1 0-2 .9-2 2v14c0 1.1.9 2 2 2h14c1.1 0 2-.9 2-2V5c0-1.1-.9-2-2-2zM9 17H7v-7h2v7zm4 0h-2V7h2v10zm4 0h-2v-4h2v4z\"/>\n",
              "    </g>\n",
              "</svg>\n",
              "  </button>\n",
              "\n",
              "<style>\n",
              "  .colab-df-quickchart {\n",
              "      --bg-color: #E8F0FE;\n",
              "      --fill-color: #1967D2;\n",
              "      --hover-bg-color: #E2EBFA;\n",
              "      --hover-fill-color: #174EA6;\n",
              "      --disabled-fill-color: #AAA;\n",
              "      --disabled-bg-color: #DDD;\n",
              "  }\n",
              "\n",
              "  [theme=dark] .colab-df-quickchart {\n",
              "      --bg-color: #3B4455;\n",
              "      --fill-color: #D2E3FC;\n",
              "      --hover-bg-color: #434B5C;\n",
              "      --hover-fill-color: #FFFFFF;\n",
              "      --disabled-bg-color: #3B4455;\n",
              "      --disabled-fill-color: #666;\n",
              "  }\n",
              "\n",
              "  .colab-df-quickchart {\n",
              "    background-color: var(--bg-color);\n",
              "    border: none;\n",
              "    border-radius: 50%;\n",
              "    cursor: pointer;\n",
              "    display: none;\n",
              "    fill: var(--fill-color);\n",
              "    height: 32px;\n",
              "    padding: 0;\n",
              "    width: 32px;\n",
              "  }\n",
              "\n",
              "  .colab-df-quickchart:hover {\n",
              "    background-color: var(--hover-bg-color);\n",
              "    box-shadow: 0 1px 2px rgba(60, 64, 67, 0.3), 0 1px 3px 1px rgba(60, 64, 67, 0.15);\n",
              "    fill: var(--button-hover-fill-color);\n",
              "  }\n",
              "\n",
              "  .colab-df-quickchart-complete:disabled,\n",
              "  .colab-df-quickchart-complete:disabled:hover {\n",
              "    background-color: var(--disabled-bg-color);\n",
              "    fill: var(--disabled-fill-color);\n",
              "    box-shadow: none;\n",
              "  }\n",
              "\n",
              "  .colab-df-spinner {\n",
              "    border: 2px solid var(--fill-color);\n",
              "    border-color: transparent;\n",
              "    border-bottom-color: var(--fill-color);\n",
              "    animation:\n",
              "      spin 1s steps(1) infinite;\n",
              "  }\n",
              "\n",
              "  @keyframes spin {\n",
              "    0% {\n",
              "      border-color: transparent;\n",
              "      border-bottom-color: var(--fill-color);\n",
              "      border-left-color: var(--fill-color);\n",
              "    }\n",
              "    20% {\n",
              "      border-color: transparent;\n",
              "      border-left-color: var(--fill-color);\n",
              "      border-top-color: var(--fill-color);\n",
              "    }\n",
              "    30% {\n",
              "      border-color: transparent;\n",
              "      border-left-color: var(--fill-color);\n",
              "      border-top-color: var(--fill-color);\n",
              "      border-right-color: var(--fill-color);\n",
              "    }\n",
              "    40% {\n",
              "      border-color: transparent;\n",
              "      border-right-color: var(--fill-color);\n",
              "      border-top-color: var(--fill-color);\n",
              "    }\n",
              "    60% {\n",
              "      border-color: transparent;\n",
              "      border-right-color: var(--fill-color);\n",
              "    }\n",
              "    80% {\n",
              "      border-color: transparent;\n",
              "      border-right-color: var(--fill-color);\n",
              "      border-bottom-color: var(--fill-color);\n",
              "    }\n",
              "    90% {\n",
              "      border-color: transparent;\n",
              "      border-bottom-color: var(--fill-color);\n",
              "    }\n",
              "  }\n",
              "</style>\n",
              "\n",
              "  <script>\n",
              "    async function quickchart(key) {\n",
              "      const quickchartButtonEl =\n",
              "        document.querySelector('#' + key + ' button');\n",
              "      quickchartButtonEl.disabled = true;  // To prevent multiple clicks.\n",
              "      quickchartButtonEl.classList.add('colab-df-spinner');\n",
              "      try {\n",
              "        const charts = await google.colab.kernel.invokeFunction(\n",
              "            'suggestCharts', [key], {});\n",
              "      } catch (error) {\n",
              "        console.error('Error during call to suggestCharts:', error);\n",
              "      }\n",
              "      quickchartButtonEl.classList.remove('colab-df-spinner');\n",
              "      quickchartButtonEl.classList.add('colab-df-quickchart-complete');\n",
              "    }\n",
              "    (() => {\n",
              "      let quickchartButtonEl =\n",
              "        document.querySelector('#df-daacd353-cdc9-4aed-a665-3e327d7f271f button');\n",
              "      quickchartButtonEl.style.display =\n",
              "        google.colab.kernel.accessAllowed ? 'block' : 'none';\n",
              "    })();\n",
              "  </script>\n",
              "</div>\n",
              "\n",
              "    </div>\n",
              "  </div>\n"
            ],
            "application/vnd.google.colaboratory.intrinsic+json": {
              "type": "dataframe",
              "variable_name": "carseats",
              "summary": "{\n  \"name\": \"carseats\",\n  \"rows\": 400,\n  \"fields\": [\n    {\n      \"column\": \"Sales\",\n      \"properties\": {\n        \"dtype\": \"number\",\n        \"std\": 2.824115048806837,\n        \"min\": 0.0,\n        \"max\": 16.27,\n        \"num_unique_values\": 336,\n        \"samples\": [\n          8.55,\n          7.57,\n          5.99\n        ],\n        \"semantic_type\": \"\",\n        \"description\": \"\"\n      }\n    },\n    {\n      \"column\": \"CompPrice\",\n      \"properties\": {\n        \"dtype\": \"number\",\n        \"std\": 15,\n        \"min\": 77,\n        \"max\": 175,\n        \"num_unique_values\": 73,\n        \"samples\": [\n          141,\n          120,\n          134\n        ],\n        \"semantic_type\": \"\",\n        \"description\": \"\"\n      }\n    },\n    {\n      \"column\": \"Income\",\n      \"properties\": {\n        \"dtype\": \"number\",\n        \"std\": 27,\n        \"min\": 21,\n        \"max\": 120,\n        \"num_unique_values\": 98,\n        \"samples\": [\n          30,\n          103,\n          55\n        ],\n        \"semantic_type\": \"\",\n        \"description\": \"\"\n      }\n    },\n    {\n      \"column\": \"Advertising\",\n      \"properties\": {\n        \"dtype\": \"number\",\n        \"std\": 6,\n        \"min\": 0,\n        \"max\": 29,\n        \"num_unique_values\": 28,\n        \"samples\": [\n          2,\n          29,\n          9\n        ],\n        \"semantic_type\": \"\",\n        \"description\": \"\"\n      }\n    },\n    {\n      \"column\": \"Population\",\n      \"properties\": {\n        \"dtype\": \"number\",\n        \"std\": 147,\n        \"min\": 10,\n        \"max\": 509,\n        \"num_unique_values\": 275,\n        \"samples\": [\n          447,\n          492,\n          467\n        ],\n        \"semantic_type\": \"\",\n        \"description\": \"\"\n      }\n    },\n    {\n      \"column\": \"Price\",\n      \"properties\": {\n        \"dtype\": \"number\",\n        \"std\": 23,\n        \"min\": 24,\n        \"max\": 191,\n        \"num_unique_values\": 101,\n        \"samples\": [\n          64,\n          139,\n          49\n        ],\n        \"semantic_type\": \"\",\n        \"description\": \"\"\n      }\n    },\n    {\n      \"column\": \"ShelveLoc\",\n      \"properties\": {\n        \"dtype\": \"category\",\n        \"num_unique_values\": 3,\n        \"samples\": [\n          \"Bad\",\n          \"Good\",\n          \"Medium\"\n        ],\n        \"semantic_type\": \"\",\n        \"description\": \"\"\n      }\n    },\n    {\n      \"column\": \"Age\",\n      \"properties\": {\n        \"dtype\": \"number\",\n        \"std\": 16,\n        \"min\": 25,\n        \"max\": 80,\n        \"num_unique_values\": 56,\n        \"samples\": [\n          42,\n          78,\n          29\n        ],\n        \"semantic_type\": \"\",\n        \"description\": \"\"\n      }\n    },\n    {\n      \"column\": \"Education\",\n      \"properties\": {\n        \"dtype\": \"number\",\n        \"std\": 2,\n        \"min\": 10,\n        \"max\": 18,\n        \"num_unique_values\": 9,\n        \"samples\": [\n          18,\n          10,\n          16\n        ],\n        \"semantic_type\": \"\",\n        \"description\": \"\"\n      }\n    },\n    {\n      \"column\": \"Urban\",\n      \"properties\": {\n        \"dtype\": \"category\",\n        \"num_unique_values\": 2,\n        \"samples\": [\n          \"No\",\n          \"Yes\"\n        ],\n        \"semantic_type\": \"\",\n        \"description\": \"\"\n      }\n    },\n    {\n      \"column\": \"US\",\n      \"properties\": {\n        \"dtype\": \"category\",\n        \"num_unique_values\": 2,\n        \"samples\": [\n          \"No\",\n          \"Yes\"\n        ],\n        \"semantic_type\": \"\",\n        \"description\": \"\"\n      }\n    }\n  ]\n}"
            }
          },
          "metadata": {},
          "execution_count": 81
        }
      ]
    },
    {
      "cell_type": "code",
      "source": [
        "# Convert 'Urban' and 'US' to integer (0 and 1)\n",
        "carseats['Urban'] = carseats['Urban'].astype(int)\n",
        "carseats['US'] = carseats['US'].astype(int)\n",
        "\n",
        "model = sm.OLS(y, X).fit()\n",
        "print(model.summary())"
      ],
      "metadata": {
        "colab": {
          "base_uri": "https://localhost:8080/"
        },
        "id": "AQxRz8F6aMud",
        "outputId": "dd20b744-164e-4130-da50-9702a9df7ce8"
      },
      "execution_count": null,
      "outputs": [
        {
          "output_type": "stream",
          "name": "stdout",
          "text": [
            "                            OLS Regression Results                            \n",
            "==============================================================================\n",
            "Dep. Variable:                  Sales   R-squared:                       0.239\n",
            "Model:                            OLS   Adj. R-squared:                  0.234\n",
            "Method:                 Least Squares   F-statistic:                     41.52\n",
            "Date:                Tue, 24 Sep 2024   Prob (F-statistic):           2.39e-23\n",
            "Time:                        23:44:09   Log-Likelihood:                -927.66\n",
            "No. Observations:                 400   AIC:                             1863.\n",
            "Df Residuals:                     396   BIC:                             1879.\n",
            "Df Model:                           3                                         \n",
            "Covariance Type:            nonrobust                                         \n",
            "==============================================================================\n",
            "                 coef    std err          t      P>|t|      [0.025      0.975]\n",
            "------------------------------------------------------------------------------\n",
            "const         13.0435      0.651     20.036      0.000      11.764      14.323\n",
            "Price         -0.0545      0.005    -10.389      0.000      -0.065      -0.044\n",
            "Urban         -0.0219      0.272     -0.081      0.936      -0.556       0.512\n",
            "US             1.2006      0.259      4.635      0.000       0.691       1.710\n",
            "==============================================================================\n",
            "Omnibus:                        0.676   Durbin-Watson:                   1.912\n",
            "Prob(Omnibus):                  0.713   Jarque-Bera (JB):                0.758\n",
            "Skew:                           0.093   Prob(JB):                        0.684\n",
            "Kurtosis:                       2.897   Cond. No.                         628.\n",
            "==============================================================================\n",
            "\n",
            "Notes:\n",
            "[1] Standard Errors assume that the covariance matrix of the errors is correctly specified.\n"
          ]
        }
      ]
    },
    {
      "cell_type": "markdown",
      "source": [
        "b.\n",
        "Intercept: When all predictors (Price, Urban, and US) are 0, the expected value of Sales is 13.0435 units.\n",
        "\n",
        "The coefficient for Price is -0.0545. This means that for every unit increase in price, the sales are expected to decrease by 0.0545 units.\n",
        "\n",
        "The coefficient for Urban is -0.0219 which suggests that stores located in urban areas have slightly lower sales.\n",
        "\n",
        "The coefficient for US is 1.2006 which suggests that stores located in the US area have higher sales.\n",
        "\n",
        "c. Sales= B0 (Intercept) + B1 * Price + B2 * Urban_Yes + B3 * US_Yes\n",
        "\n",
        "Sales=13.0435 - 0.0545 * Price - 0.0219 * Urban_Yes + 1.2006 * US_Yes\n",
        "\n",
        "d. For US and Price"
      ],
      "metadata": {
        "id": "QeSy_Xt_a9rf"
      }
    },
    {
      "cell_type": "markdown",
      "source": [
        "Problem 14\n",
        "\n",
        "a."
      ],
      "metadata": {
        "id": "UZ5W3CCOgg82"
      }
    },
    {
      "cell_type": "code",
      "source": [
        "rng = np.random.default_rng(10)\n",
        "x1 = rng.uniform(0, 1, size=100)\n",
        "x2 = 0.5 * x1 + rng.normal(size=100) / 10\n",
        "y = 2 + 2 * x1 + 0.3 * x2 + rng.normal(size=100)"
      ],
      "metadata": {
        "id": "yhT_VmCLkdN3"
      },
      "execution_count": null,
      "outputs": []
    },
    {
      "cell_type": "markdown",
      "source": [
        "The form of the linear mode: y^= B0 + B1 * x1 + B2 * x2 + residual\n",
        "where the coefficient for B0 is 2, the coefficient for B1 is 2 and the coefficient for B2 is 0.3"
      ],
      "metadata": {
        "id": "GM59pmp1kzqw"
      }
    },
    {
      "cell_type": "markdown",
      "source": [
        "b."
      ],
      "metadata": {
        "id": "rzNoGCkJksL6"
      }
    },
    {
      "cell_type": "code",
      "source": [
        "np.random.seed(1)\n",
        "\n",
        "x1 = np.random.uniform(0, 1, 100)\n",
        "x2 = 0.5 * x1 + np.random.normal(0, 0.1, 100)\n",
        "\n",
        "correlation = np.corrcoef(x1, x2)[0, 1]\n",
        "\n",
        "df = pd.DataFrame({'x1':x1, 'x2':x2, 'y':y})\n",
        "sns.scatterplot(x='x1', y='x2', data=df);\n",
        "\n",
        "print('Correlation coefficient: ' + str(correlation))"
      ],
      "metadata": {
        "colab": {
          "base_uri": "https://localhost:8080/",
          "height": 475
        },
        "id": "hfqPUX0rmjTx",
        "outputId": "414d9331-dddc-443b-e97e-ae0b3588f883"
      },
      "execution_count": null,
      "outputs": [
        {
          "output_type": "stream",
          "name": "stdout",
          "text": [
            "Correlation coefficient: 0.8390596222844917\n"
          ]
        },
        {
          "output_type": "display_data",
          "data": {
            "text/plain": [
              "<Figure size 640x480 with 1 Axes>"
            ],
            "image/png": "[encoded data removed]"
          },
          "metadata": {}
        }
      ]
    },
    {
      "cell_type": "markdown",
      "source": [
        "c."
      ],
      "metadata": {
        "id": "2EfgMLKInAyg"
      }
    },
    {
      "cell_type": "code",
      "source": [
        "y = 2 + 2 * x1 + 0.3 * x2 + np.random.normal(0, 1, 100)\n",
        "\n",
        "X = sm.add_constant(np.column_stack((x1, x2)))\n",
        "\n",
        "model = sm.OLS(y, X).fit()\n",
        "print(model.summary())"
      ],
      "metadata": {
        "colab": {
          "base_uri": "https://localhost:8080/"
        },
        "id": "hC2Z447LnB0W",
        "outputId": "f0270fad-c923-4074-d8f5-31b8a600a1bb"
      },
      "execution_count": null,
      "outputs": [
        {
          "output_type": "stream",
          "name": "stdout",
          "text": [
            "                            OLS Regression Results                            \n",
            "==============================================================================\n",
            "Dep. Variable:                      y   R-squared:                       0.329\n",
            "Model:                            OLS   Adj. R-squared:                  0.316\n",
            "Method:                 Least Squares   F-statistic:                     23.82\n",
            "Date:                Wed, 25 Sep 2024   Prob (F-statistic):           3.85e-09\n",
            "Time:                        00:56:39   Log-Likelihood:                -137.90\n",
            "No. Observations:                 100   AIC:                             281.8\n",
            "Df Residuals:                      97   BIC:                             289.6\n",
            "Df Model:                           2                                         \n",
            "Covariance Type:            nonrobust                                         \n",
            "==============================================================================\n",
            "                 coef    std err          t      P>|t|      [0.025      0.975]\n",
            "------------------------------------------------------------------------------\n",
            "const          1.8728      0.190      9.856      0.000       1.496       2.250\n",
            "x1             1.9473      0.609      3.197      0.002       0.738       3.156\n",
            "x2             0.7040      1.091      0.645      0.520      -1.461       2.869\n",
            "==============================================================================\n",
            "Omnibus:                        2.592   Durbin-Watson:                   1.957\n",
            "Prob(Omnibus):                  0.274   Jarque-Bera (JB):                2.343\n",
            "Skew:                          -0.072   Prob(JB):                        0.310\n",
            "Kurtosis:                       3.736   Cond. No.                         14.3\n",
            "==============================================================================\n",
            "\n",
            "Notes:\n",
            "[1] Standard Errors assume that the covariance matrix of the errors is correctly specified.\n"
          ]
        }
      ]
    },
    {
      "cell_type": "markdown",
      "source": [
        "The coefficient for:\n",
        "B0^= 2.1893 which is close to the true intercept 2\n",
        "B1^= 0.7046 which is way smaller than the true coefficient 2\n",
        "B2^= 2.5024 which is way greater than the true coefficient .3\n",
        "\n",
        "For H0 : B1 = 0, the p-value for x1 is 0.271 which is greater than 0.05. We can't reject the null hypothesis.\n",
        "\n",
        "For H0: B2 = 0, the p-value for x2 is 0.031 which is less than 0.05. We can reject the null hypothesis.\n"
      ],
      "metadata": {
        "id": "bgl0Gwauovok"
      }
    },
    {
      "cell_type": "markdown",
      "source": [
        "d."
      ],
      "metadata": {
        "id": "duSd6CxJqnzy"
      }
    },
    {
      "cell_type": "code",
      "source": [
        "np.random.seed(1)\n",
        "x1 = np.random.uniform(0, 1, 100)\n",
        "y = 2 + 2 * x1 + np.random.normal(0, 1, 100)\n",
        "\n",
        "X = sm.add_constant(x1)\n",
        "\n",
        "model = sm.OLS(y, X).fit()\n",
        "print(model.summary())"
      ],
      "metadata": {
        "colab": {
          "base_uri": "https://localhost:8080/"
        },
        "id": "xwkAnTRyqotx",
        "outputId": "375182c6-2724-41fb-d3bb-79054068cd61"
      },
      "execution_count": null,
      "outputs": [
        {
          "output_type": "stream",
          "name": "stdout",
          "text": [
            "                            OLS Regression Results                            \n",
            "==============================================================================\n",
            "Dep. Variable:                      y   R-squared:                       0.235\n",
            "Model:                            OLS   Adj. R-squared:                  0.227\n",
            "Method:                 Least Squares   F-statistic:                     30.15\n",
            "Date:                Wed, 25 Sep 2024   Prob (F-statistic):           3.15e-07\n",
            "Time:                        01:22:20   Log-Likelihood:                -130.72\n",
            "No. Observations:                 100   AIC:                             265.4\n",
            "Df Residuals:                      98   BIC:                             270.7\n",
            "Df Model:                           1                                         \n",
            "Covariance Type:            nonrobust                                         \n",
            "==============================================================================\n",
            "                 coef    std err          t      P>|t|      [0.025      0.975]\n",
            "------------------------------------------------------------------------------\n",
            "const          2.2370      0.174     12.832      0.000       1.891       2.583\n",
            "x1             1.6849      0.307      5.491      0.000       1.076       2.294\n",
            "==============================================================================\n",
            "Omnibus:                        2.308   Durbin-Watson:                   2.206\n",
            "Prob(Omnibus):                  0.315   Jarque-Bera (JB):                1.753\n",
            "Skew:                          -0.189   Prob(JB):                        0.416\n",
            "Kurtosis:                       3.528   Cond. No.                         4.26\n",
            "==============================================================================\n",
            "\n",
            "Notes:\n",
            "[1] Standard Errors assume that the covariance matrix of the errors is correctly specified.\n"
          ]
        }
      ]
    },
    {
      "cell_type": "markdown",
      "source": [
        "The p-value for x1 is extremely small, which is much smaller than the significance level (typically 0.05). Therefore, we can reject the null hypothesis H0: B1=0"
      ],
      "metadata": {
        "id": "0BrAKU-mtPnq"
      }
    },
    {
      "cell_type": "markdown",
      "source": [
        "e."
      ],
      "metadata": {
        "id": "RmZ5pwjStnxe"
      }
    },
    {
      "cell_type": "code",
      "source": [
        "np.random.seed(1)\n",
        "x1 = np.random.uniform(0, 1, 100)\n",
        "x2 = 0.5 * x1 + np.random.uniform(0, 0.1, 100)\n",
        "y = 2 + 2 * x1 + np.random.normal(0, 1, 100)\n",
        "\n",
        "X = sm.add_constant(x2)\n",
        "\n",
        "model = sm.OLS(y, X).fit()\n",
        "print(model.summary())"
      ],
      "metadata": {
        "colab": {
          "base_uri": "https://localhost:8080/"
        },
        "id": "wnJo4MmnuXJO",
        "outputId": "fd838556-4556-46f0-e4e1-fa4a03a58b57"
      },
      "execution_count": null,
      "outputs": [
        {
          "output_type": "stream",
          "name": "stdout",
          "text": [
            "                            OLS Regression Results                            \n",
            "==============================================================================\n",
            "Dep. Variable:                      y   R-squared:                       0.205\n",
            "Model:                            OLS   Adj. R-squared:                  0.197\n",
            "Method:                 Least Squares   F-statistic:                     25.30\n",
            "Date:                Wed, 25 Sep 2024   Prob (F-statistic):           2.22e-06\n",
            "Time:                        01:21:46   Log-Likelihood:                -145.45\n",
            "No. Observations:                 100   AIC:                             294.9\n",
            "Df Residuals:                      98   BIC:                             300.1\n",
            "Df Model:                           1                                         \n",
            "Covariance Type:            nonrobust                                         \n",
            "==============================================================================\n",
            "                 coef    std err          t      P>|t|      [0.025      0.975]\n",
            "------------------------------------------------------------------------------\n",
            "const          2.0446      0.229      8.929      0.000       1.590       2.499\n",
            "x1             3.5152      0.699      5.030      0.000       2.128       4.902\n",
            "==============================================================================\n",
            "Omnibus:                        0.236   Durbin-Watson:                   1.947\n",
            "Prob(Omnibus):                  0.889   Jarque-Bera (JB):                0.388\n",
            "Skew:                           0.092   Prob(JB):                        0.824\n",
            "Kurtosis:                       2.757   Cond. No.                         7.26\n",
            "==============================================================================\n",
            "\n",
            "Notes:\n",
            "[1] Standard Errors assume that the covariance matrix of the errors is correctly specified.\n"
          ]
        }
      ]
    },
    {
      "cell_type": "markdown",
      "source": [
        "The p-value for x2 is extremely small, which is much smaller than the significance level (typically 0.05). Therefore, we can reject the null hypothesis H0: B2=0"
      ],
      "metadata": {
        "id": "tKTe0gDtxhz4"
      }
    },
    {
      "cell_type": "markdown",
      "source": [
        "f. Yes, the results for the p-value associated with x1 are contradictory. In part (c), the p-value is large enough that we would fail to reject the null hypothesis H0: B1 = 0, suggesting that x1 is not significant. However, in part (d), when x1 is used on its own, the p-value is small, leading us to reject the null hypothesis and conclude that x1 is a significant predictor of y."
      ],
      "metadata": {
        "id": "1ObHGF_Jxy_d"
      }
    },
    {
      "cell_type": "markdown",
      "source": [
        "g."
      ],
      "metadata": {
        "id": "bZ-oxVK3y3Sw"
      }
    },
    {
      "cell_type": "code",
      "source": [
        "x1_new = np.concatenate([x1, [0.1]])\n",
        "x2_new = np.concatenate([x2, [0.8]])\n",
        "y_new = np.concatenate([y, [6]])\n",
        "\n",
        "# For Model (c)\n",
        "X_both_new = sm.add_constant(np.column_stack((x1_new, x2_new)))\n",
        "model_c = sm.OLS(y_new, X_both_new).fit()\n",
        "\n",
        "# For Model (d)\n",
        "X_x1_new = sm.add_constant(x1_new)\n",
        "model_d = sm.OLS(y_new, X_x1_new).fit()\n",
        "\n",
        "# For Model (e)\n",
        "X_x2_new = sm.add_constant(x2_new)\n",
        "model_e = sm.OLS(y_new, X_x2_new).fit()\n",
        "\n",
        "# Print the summaries for the fitted models\n",
        "print(model_c.summary())  # Summary for the model with both x1 and x2\n",
        "print(model_d.summary())    # Summary for the model with only x1\n",
        "print(model_e.summary())    # Summary for the model with only x2\n"
      ],
      "metadata": {
        "colab": {
          "base_uri": "https://localhost:8080/"
        },
        "id": "GXkto99A0QIw",
        "outputId": "6e92f8ff-5377-4011-a5a8-95fd87d3cfd3"
      },
      "execution_count": null,
      "outputs": [
        {
          "output_type": "stream",
          "name": "stdout",
          "text": [
            "                            OLS Regression Results                            \n",
            "==============================================================================\n",
            "Dep. Variable:                      y   R-squared:                       0.281\n",
            "Model:                            OLS   Adj. R-squared:                  0.266\n",
            "Method:                 Least Squares   F-statistic:                     19.16\n",
            "Date:                Wed, 25 Sep 2024   Prob (F-statistic):           9.49e-08\n",
            "Time:                        01:50:12   Log-Likelihood:                -132.39\n",
            "No. Observations:                 101   AIC:                             270.8\n",
            "Df Residuals:                      98   BIC:                             278.6\n",
            "Df Model:                           2                                         \n",
            "Covariance Type:            nonrobust                                         \n",
            "==============================================================================\n",
            "                 coef    std err          t      P>|t|      [0.025      0.975]\n",
            "------------------------------------------------------------------------------\n",
            "const          2.0335      0.193     10.512      0.000       1.650       2.417\n",
            "x1            -0.5269      0.638     -0.825      0.411      -1.794       0.740\n",
            "x2             4.4028      1.199      3.673      0.000       2.024       6.782\n",
            "==============================================================================\n",
            "Omnibus:                        2.288   Durbin-Watson:                   2.232\n",
            "Prob(Omnibus):                  0.318   Jarque-Bera (JB):                1.684\n",
            "Skew:                          -0.236   Prob(JB):                        0.431\n",
            "Kurtosis:                       3.421   Cond. No.                         17.1\n",
            "==============================================================================\n",
            "\n",
            "Notes:\n",
            "[1] Standard Errors assume that the covariance matrix of the errors is correctly specified.\n",
            "                            OLS Regression Results                            \n",
            "==============================================================================\n",
            "Dep. Variable:                      y   R-squared:                       0.182\n",
            "Model:                            OLS   Adj. R-squared:                  0.174\n",
            "Method:                 Least Squares   F-statistic:                     22.05\n",
            "Date:                Wed, 25 Sep 2024   Prob (F-statistic):           8.57e-06\n",
            "Time:                        01:50:12   Log-Likelihood:                -138.90\n",
            "No. Observations:                 101   AIC:                             281.8\n",
            "Df Residuals:                      99   BIC:                             287.0\n",
            "Df Model:                           1                                         \n",
            "Covariance Type:            nonrobust                                         \n",
            "==============================================================================\n",
            "                 coef    std err          t      P>|t|      [0.025      0.975]\n",
            "------------------------------------------------------------------------------\n",
            "const          2.3477      0.184     12.750      0.000       1.982       2.713\n",
            "x1             1.5291      0.326      4.695      0.000       0.883       2.175\n",
            "==============================================================================\n",
            "Omnibus:                        6.586   Durbin-Watson:                   2.079\n",
            "Prob(Omnibus):                  0.037   Jarque-Bera (JB):                9.756\n",
            "Skew:                           0.212   Prob(JB):                      0.00761\n",
            "Kurtosis:                       4.462   Cond. No.                         4.23\n",
            "==============================================================================\n",
            "\n",
            "Notes:\n",
            "[1] Standard Errors assume that the covariance matrix of the errors is correctly specified.\n",
            "                            OLS Regression Results                            \n",
            "==============================================================================\n",
            "Dep. Variable:                      y   R-squared:                       0.276\n",
            "Model:                            OLS   Adj. R-squared:                  0.269\n",
            "Method:                 Least Squares   F-statistic:                     37.76\n",
            "Date:                Wed, 25 Sep 2024   Prob (F-statistic):           1.68e-08\n",
            "Time:                        01:50:12   Log-Likelihood:                -132.74\n",
            "No. Observations:                 101   AIC:                             269.5\n",
            "Df Residuals:                      99   BIC:                             274.7\n",
            "Df Model:                           1                                         \n",
            "Covariance Type:            nonrobust                                         \n",
            "==============================================================================\n",
            "                 coef    std err          t      P>|t|      [0.025      0.975]\n",
            "------------------------------------------------------------------------------\n",
            "const          2.0367      0.193     10.548      0.000       1.654       2.420\n",
            "x1             3.5353      0.575      6.145      0.000       2.394       4.677\n",
            "==============================================================================\n",
            "Omnibus:                        2.015   Durbin-Watson:                   2.214\n",
            "Prob(Omnibus):                  0.365   Jarque-Bera (JB):                1.430\n",
            "Skew:                          -0.211   Prob(JB):                        0.489\n",
            "Kurtosis:                       3.402   Cond. No.                         6.93\n",
            "==============================================================================\n",
            "\n",
            "Notes:\n",
            "[1] Standard Errors assume that the covariance matrix of the errors is correctly specified.\n"
          ]
        }
      ]
    },
    {
      "cell_type": "markdown",
      "source": [
        "In each of the models, the new observation is both an outlier and a high-leverage point."
      ],
      "metadata": {
        "id": "0urwV68v3Mgz"
      }
    }
  ]
}