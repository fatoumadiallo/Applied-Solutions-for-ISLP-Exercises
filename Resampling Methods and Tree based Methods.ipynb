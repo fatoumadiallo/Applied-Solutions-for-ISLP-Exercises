{
  "nbformat": 4,
  "nbformat_minor": 0,
  "metadata": {
    "colab": {
      "provenance": [],
      "mount_file_id": "1yHweHwF65Z2kaiv-jdCscFiSZMHUxlzN",
      "authorship_tag": "ABX9TyNXZ1FE/ScPGyShDBZU0aUn"
    },
    "kernelspec": {
      "name": "python3",
      "display_name": "Python 3"
    },
    "language_info": {
      "name": "python"
    }
  },
  "cells": [
    {
      "cell_type": "markdown",
      "source": [
        "### **Chapter 5: Resampling Methods**"
      ],
      "metadata": {
        "id": "hIqVOuYElMXL"
      }
    },
    {
      "cell_type": "markdown",
      "source": [
        "Exercise 2"
      ],
      "metadata": {
        "id": "DZpfATeQnF_Z"
      }
    },
    {
      "cell_type": "markdown",
      "source": [
        "Part a: The probability of selecting any one observation, including the jth one, is 1/n. Therefore, the probability of not selecting the jth observation for the first bootstrap observation is: 1-1/n"
      ],
      "metadata": {
        "id": "4TbvWXCaJVHw"
      }
    },
    {
      "cell_type": "markdown",
      "source": [
        "Part b: Because each observation is independent the probability that the second bootstrap observation is not the jth observation is: 1-1/n\n",
        "\n",
        "\n"
      ],
      "metadata": {
        "id": "UH19FF1KJkFg"
      }
    },
    {
      "cell_type": "markdown",
      "source": [
        "Part c: Let's consider that we are making n selections, since the bootstrap sample consists of n observations. We know that for each selection, the probability of not choosing the j-th observation is 1-1/n. And because the observations are independent, the probability that the jth observation is not in the bootstrap sample is: (1-1/n)^n\n"
      ],
      "metadata": {
        "id": "m9AOxlhfKqhS"
      }
    },
    {
      "cell_type": "markdown",
      "source": [
        "Part d: We know that the probability that the jth observation is not in the bootstrap sample is (1-1/n)^n. Therefore, the probability that the jth observation is in the bootstrap sample is: 1-(1-1/n)^n\n",
        "\n",
        "Now, Let's find P(n=5): P(n=5)= 1-(1-1/5)^5=1-(4/5)^5= 0.672"
      ],
      "metadata": {
        "id": "-XR21VxaOjjK"
      }
    },
    {
      "cell_type": "markdown",
      "source": [
        "Part e: We want to find P(n=100): P(n=100) = 1-(1-1/100)^10 = 1-(99/100)^100 = 0.634"
      ],
      "metadata": {
        "id": "1iw6QyUnQ-wa"
      }
    },
    {
      "cell_type": "markdown",
      "source": [
        "part f: We want to find P(n=1000): P(n=10000) = 1-(1-1/10000)^10000 = 0.632"
      ],
      "metadata": {
        "id": "XGadM291Sccg"
      }
    },
    {
      "cell_type": "markdown",
      "source": [
        "the probability that the jth observation is not in the bootstrap sample as n approaches infinity is: (1-1/n)^n = 1/e = 0.36788.\n",
        "Therefore, the probability that the jth observation is in the bootstrap sample as n approaches infinity is: 1-1/e = 1-0.36788 = 0.632\n"
      ],
      "metadata": {
        "id": "IopHvn9BWiyp"
      }
    },
    {
      "cell_type": "markdown",
      "source": [
        "### **Chapter 8: TREE BASED METHOD**\n",
        "\n",
        "Exercise 8:\n",
        "\n",
        "Part a:"
      ],
      "metadata": {
        "id": "EBPXJ0BZXoS3"
      }
    },
    {
      "cell_type": "code",
      "source": [
        "import numpy as np\n",
        "import pandas as pd\n",
        "import statsmodels.api as sm\n",
        "from matplotlib.pyplot import subplots\n",
        "from statsmodels.datasets import get_rdataset\n",
        "import sklearn.model_selection as skm\n",
        "from sklearn.tree import (DecisionTreeClassifier as DTC, DecisionTreeRegressor as DTR , plot_tree , export_text)\n",
        "from sklearn.metrics import mean_squared_error\n",
        "from sklearn.preprocessing import OneHotEncoder\n",
        "from sklearn.compose import ColumnTransformer\n",
        "from sklearn.pipeline import Pipeline\n",
        "from sklearn.tree import DecisionTreeRegressor, plot_tree\n",
        "import matplotlib.pyplot as plt\n",
        "from sklearn.ensemble import BaggingRegressor\n",
        "from sklearn.ensemble import RandomForestRegressor\n",
        "from xgboost import XGBRegressor\n"
      ],
      "metadata": {
        "id": "YxWrGuYDXrec"
      },
      "execution_count": null,
      "outputs": []
    },
    {
      "cell_type": "code",
      "source": [
        "carseats = pd.read_csv('/content/drive/MyDrive/Carseats.csv')\n",
        "\n",
        "# Separate features (X) and target variable (y)\n",
        "X = carseats.drop(columns='Sales')\n",
        "y = carseats['Sales']\n"
      ],
      "metadata": {
        "id": "qzy_nPxzP5mi"
      },
      "execution_count": null,
      "outputs": []
    },
    {
      "cell_type": "code",
      "source": [
        "# Specify categorical features that need encoding\n",
        "categorical_features = ['ShelveLoc', 'Urban', 'US']\n",
        "\n",
        "# Create a ColumnTransformer that will apply one-hot encoding to these features\n",
        "preprocessor = ColumnTransformer(\n",
        "    transformers=[\n",
        "        ('cat', OneHotEncoder(drop='first'), categorical_features)],\n",
        "    remainder='passthrough'  # Keep other columns as is\n",
        ")"
      ],
      "metadata": {
        "id": "nxkHy8fnSxiX"
      },
      "execution_count": null,
      "outputs": []
    },
    {
      "cell_type": "markdown",
      "source": [
        "a) Split the data set into a training set and a test set"
      ],
      "metadata": {
        "id": "8MRNh-DMTO61"
      }
    },
    {
      "cell_type": "code",
      "source": [
        "X_train ,X_test ,y_train ,y_test = skm.train_test_split(X,\n",
        "carseats['Sales'], test_size=0.3, random_state=0)\n",
        "\n",
        "X_train = preprocessor.fit_transform(X_train)\n",
        "X_test = preprocessor.transform(X_test)"
      ],
      "metadata": {
        "id": "-6SG4GzGSaQA"
      },
      "execution_count": null,
      "outputs": []
    },
    {
      "cell_type": "markdown",
      "source": [
        "b)Fit a regression tree to the training set. Plot the tree, and interpret\n",
        "the results. What test MSE do you obtain?"
      ],
      "metadata": {
        "id": "P8on0OUeTZJQ"
      }
    },
    {
      "cell_type": "code",
      "source": [
        "reg_tree = DecisionTreeRegressor(max_depth=3, random_state=0)\n",
        "reg_tree.fit(X_train, y_train)\n",
        "\n",
        "# focus on the top two levels\n",
        "plt.figure(figsize=(12, 8))\n",
        "plot_tree(reg_tree, filled=True, feature_names=preprocessor.get_feature_names_out(), max_depth=2)\n",
        "plt.show()\n",
        "\n",
        "y_pred = reg_tree.predict(X_test)\n",
        "test_mse = ((y_test - y_pred) ** 2).mean()\n",
        "print(f'Test MSE: {test_mse}')"
      ],
      "metadata": {
        "colab": {
          "base_uri": "https://localhost:8080/",
          "height": 670
        },
        "id": "RBLxuTQlVyXC",
        "outputId": "a3d94108-eacf-463c-e196-7077eef9b15d"
      },
      "execution_count": null,
      "outputs": [
        {
          "output_type": "display_data",
          "data": {
            "text/plain": [
              "<Figure size 1200x800 with 1 Axes>"
            ],
            "image/png": "[encoded data removed]"
          },
          "metadata": {}
        },
        {
          "output_type": "stream",
          "name": "stdout",
          "text": [
            "Test MSE: 3.7038582752360925\n"
          ]
        }
      ]
    },
    {
      "cell_type": "markdown",
      "source": [
        "Interpretation: The top two levels of the regression tree reveal the primary factors driving sales in the Carseats dataset. By looking at these splits, we can understand which features the model believes are the most influential in determining Sales. This can offer actionable insights, such as focusing on product pricing or shelf placement to increase sales, depending on what the top-level splits show.\n",
        "\n",
        "However, the Test MSE is significantly higher at 3.70. Which means it has higher variance and overfits the training data."
      ],
      "metadata": {
        "id": "dWRx5yLiUoK6"
      }
    },
    {
      "cell_type": "markdown",
      "source": [
        "d) Use the bagging approach in order to analyze this data. What\n",
        "test MSE do you obtain?"
      ],
      "metadata": {
        "id": "Hr3WOArwVL2-"
      }
    },
    {
      "cell_type": "code",
      "source": [
        "bagging_model = BaggingRegressor(estimator=DecisionTreeRegressor(), n_estimators=500, random_state=0)\n",
        "bagging_model.fit(X_train, y_train)\n",
        "\n",
        "y_pred_bagging = bagging_model.predict(X_test)\n",
        "\n",
        "test_mse_bagging = ((y_test - y_pred_bagging) ** 2).mean()\n",
        "print(f'Test MSE with Bagging: {test_mse_bagging}')"
      ],
      "metadata": {
        "colab": {
          "base_uri": "https://localhost:8080/"
        },
        "id": "aeF1k3XMVU4p",
        "outputId": "430efa42-9a83-480a-b333-ed7577e4dd3c"
      },
      "execution_count": null,
      "outputs": [
        {
          "output_type": "stream",
          "name": "stdout",
          "text": [
            "Test MSE with Bagging: 2.024325299156675\n"
          ]
        }
      ]
    },
    {
      "cell_type": "markdown",
      "source": [
        "e) Use random forests to analyze this data. What test MSE do\n",
        "you obtain? Use the feature_importance_ values to determine\n",
        "which variables are most important. Describe the effect of m, the\n",
        "number of variables considered at each split, on the error rate\n",
        "obtained."
      ],
      "metadata": {
        "id": "EmH8ZC7AWLDn"
      }
    },
    {
      "cell_type": "code",
      "source": [
        "randomforest_model = RandomForestRegressor(n_estimators=500, random_state=0)\n",
        "randomforest_model.fit(X_train, y_train)\n",
        "\n",
        "y_pred_rf = randomforest_model.predict(X_test)\n",
        "\n",
        "test_mse_rf = ((y_test - y_pred_rf) ** 2).mean()\n",
        "print(f'Test MSE with Random Forest: {test_mse_rf}')\n",
        "\n",
        "rf_feature_importances = list(zip(X.columns, randomforest_model.feature_importances_))\n",
        "rf_feature_importances.sort(key=lambda x: x[1], reverse=True)\n",
        "print(\"Feature Importances in Random Forests:\", rf_feature_importances)"
      ],
      "metadata": {
        "colab": {
          "base_uri": "https://localhost:8080/"
        },
        "id": "R4aWwU8AWMH3",
        "outputId": "fd1285c5-a815-4efb-8d4c-86a70f9daaa3"
      },
      "execution_count": null,
      "outputs": [
        {
          "output_type": "stream",
          "name": "stdout",
          "text": [
            "Test MSE with Random Forest: 2.024143013716676\n",
            "Feature Importances in Random Forests: [('Urban', 0.2861699951940799), ('CompPrice', 0.21999981122208626), ('US', 0.10529841513459506), ('Price', 0.10061638368080651), ('Income', 0.08507847533640919), ('Age', 0.06871479086079925), ('ShelveLoc', 0.053649496835251116), ('Education', 0.03982374480944194), ('Population', 0.006591334859490813), ('Advertising', 0.0041790974289831586)]\n"
          ]
        }
      ]
    },
    {
      "cell_type": "markdown",
      "source": [
        "Both Random Forest and Bagging have almost identical performance, with a Test MSE of 2.02. These two models perform the best, suggesting that ensemble methods (which combine multiple trees) are well-suited for this dataset."
      ],
      "metadata": {
        "id": "DLFxP43eedRJ"
      }
    },
    {
      "cell_type": "markdown",
      "source": [
        "f) Now analyze the data using XGBOOST, and report your results."
      ],
      "metadata": {
        "id": "6dNyGYGPWc1-"
      }
    },
    {
      "cell_type": "code",
      "source": [
        "xgb_model = XGBRegressor(max_depth=3, n_estimators=1000, random_state=0)\n",
        "xgb_model.fit(X_train, y_train)\n",
        "y_pred_xgb = xgb_model.predict(X_test)\n",
        "test_mse_xgb = mean_squared_error(y_test, y_pred_xgb)\n",
        "print(f\"Test MSE (XGBoost): {test_mse_xgb}\")"
      ],
      "metadata": {
        "colab": {
          "base_uri": "https://localhost:8080/"
        },
        "id": "CciHgRT4WoeE",
        "outputId": "0615b711-0d51-49f7-a686-fb4a8c67bb2e"
      },
      "execution_count": null,
      "outputs": [
        {
          "output_type": "stream",
          "name": "stdout",
          "text": [
            "Test MSE (XGBoost): 2.5461806191162326\n"
          ]
        }
      ]
    },
    {
      "cell_type": "markdown",
      "source": [
        "The Test MSE with XGBoost is slightly higher at 2.55, which is still a good performance but indicates that XGBoost may need further optimization to outperform Random Forest or Bagging in this case."
      ],
      "metadata": {
        "id": "o_kfHiMRXMco"
      }
    }
  ]
}